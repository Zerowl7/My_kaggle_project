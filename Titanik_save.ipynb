{
 "cells": [
  {
   "cell_type": "code",
   "execution_count": 1,
   "id": "ffac932a",
   "metadata": {
    "_cell_guid": "b1076dfc-b9ad-4769-8c92-a6c4dae69d19",
    "_uuid": "8f2839f25d086af736a60e9eeb907d3b93b6e0e5",
    "execution": {
     "iopub.execute_input": "2022-05-02T21:53:00.237292Z",
     "iopub.status.busy": "2022-05-02T21:53:00.236920Z",
     "iopub.status.idle": "2022-05-02T21:53:01.891026Z",
     "shell.execute_reply": "2022-05-02T21:53:01.890083Z"
    },
    "papermill": {
     "duration": 1.754212,
     "end_time": "2022-05-02T21:53:01.893687",
     "exception": false,
     "start_time": "2022-05-02T21:53:00.139475",
     "status": "completed"
    },
    "tags": []
   },
   "outputs": [],
   "source": [
    "# linear algebra\n",
    "import numpy as np \n",
    "\n",
    "# data processing\n",
    "import pandas as pd \n",
    "\n",
    "# data visualization\n",
    "import seaborn as sns\n",
    "%matplotlib inline\n",
    "from matplotlib import pyplot as plt\n",
    "from matplotlib import style\n",
    "\n",
    "# Algorithms\n",
    "from sklearn import linear_model\n",
    "from sklearn.linear_model import LogisticRegression\n",
    "from sklearn.ensemble import RandomForestClassifier\n",
    "from sklearn.linear_model import Perceptron\n",
    "from sklearn.linear_model import SGDClassifier\n",
    "from sklearn.tree import DecisionTreeClassifier\n",
    "from sklearn.neighbors import KNeighborsClassifier\n",
    "from sklearn.svm import SVC, LinearSVC\n",
    "from sklearn.naive_bayes import GaussianNB"
   ]
  },
  {
   "cell_type": "code",
   "execution_count": 2,
   "id": "603c0c2d",
   "metadata": {
    "execution": {
     "iopub.execute_input": "2022-05-02T21:53:02.076724Z",
     "iopub.status.busy": "2022-05-02T21:53:02.076330Z",
     "iopub.status.idle": "2022-05-02T21:53:02.104955Z",
     "shell.execute_reply": "2022-05-02T21:53:02.104149Z"
    },
    "papermill": {
     "duration": 0.121704,
     "end_time": "2022-05-02T21:53:02.107210",
     "exception": false,
     "start_time": "2022-05-02T21:53:01.985506",
     "status": "completed"
    },
    "tags": []
   },
   "outputs": [],
   "source": [
    "train_df = pd.read_csv(\"/kaggle/input/titanic/train.csv\")"
   ]
  },
  {
   "cell_type": "code",
   "execution_count": 3,
   "id": "7c0348bb",
   "metadata": {
    "execution": {
     "iopub.execute_input": "2022-05-02T21:53:02.290376Z",
     "iopub.status.busy": "2022-05-02T21:53:02.289754Z",
     "iopub.status.idle": "2022-05-02T21:53:02.304268Z",
     "shell.execute_reply": "2022-05-02T21:53:02.303533Z"
    },
    "papermill": {
     "duration": 0.108173,
     "end_time": "2022-05-02T21:53:02.306871",
     "exception": false,
     "start_time": "2022-05-02T21:53:02.198698",
     "status": "completed"
    },
    "tags": []
   },
   "outputs": [],
   "source": [
    "test_df = pd.read_csv(\"/kaggle/input/titanic/test.csv\")"
   ]
  },
  {
   "cell_type": "code",
   "execution_count": 4,
   "id": "58089c79",
   "metadata": {
    "execution": {
     "iopub.execute_input": "2022-05-02T21:53:02.492839Z",
     "iopub.status.busy": "2022-05-02T21:53:02.492516Z",
     "iopub.status.idle": "2022-05-02T21:53:02.522376Z",
     "shell.execute_reply": "2022-05-02T21:53:02.521708Z"
    },
    "papermill": {
     "duration": 0.126444,
     "end_time": "2022-05-02T21:53:02.525360",
     "exception": false,
     "start_time": "2022-05-02T21:53:02.398916",
     "status": "completed"
    },
    "tags": []
   },
   "outputs": [
    {
     "name": "stdout",
     "output_type": "stream",
     "text": [
      "<class 'pandas.core.frame.DataFrame'>\n",
      "RangeIndex: 891 entries, 0 to 890\n",
      "Data columns (total 12 columns):\n",
      " #   Column       Non-Null Count  Dtype  \n",
      "---  ------       --------------  -----  \n",
      " 0   PassengerId  891 non-null    int64  \n",
      " 1   Survived     891 non-null    int64  \n",
      " 2   Pclass       891 non-null    int64  \n",
      " 3   Name         891 non-null    object \n",
      " 4   Sex          891 non-null    object \n",
      " 5   Age          714 non-null    float64\n",
      " 6   SibSp        891 non-null    int64  \n",
      " 7   Parch        891 non-null    int64  \n",
      " 8   Ticket       891 non-null    object \n",
      " 9   Fare         891 non-null    float64\n",
      " 10  Cabin        204 non-null    object \n",
      " 11  Embarked     889 non-null    object \n",
      "dtypes: float64(2), int64(5), object(5)\n",
      "memory usage: 83.7+ KB\n"
     ]
    }
   ],
   "source": [
    "train_df.info()"
   ]
  },
  {
   "cell_type": "markdown",
   "id": "e830b5f5",
   "metadata": {
    "papermill": {
     "duration": 0.091135,
     "end_time": "2022-05-02T21:53:02.711415",
     "exception": false,
     "start_time": "2022-05-02T21:53:02.620280",
     "status": "completed"
    },
    "tags": []
   },
   "source": []
  },
  {
   "cell_type": "markdown",
   "id": "91f1fab6",
   "metadata": {
    "papermill": {
     "duration": 0.091552,
     "end_time": "2022-05-02T21:53:02.894278",
     "exception": false,
     "start_time": "2022-05-02T21:53:02.802726",
     "status": "completed"
    },
    "tags": []
   },
   "source": []
  },
  {
   "cell_type": "code",
   "execution_count": 5,
   "id": "f3e85044",
   "metadata": {
    "execution": {
     "iopub.execute_input": "2022-05-02T21:53:03.101114Z",
     "iopub.status.busy": "2022-05-02T21:53:03.100726Z",
     "iopub.status.idle": "2022-05-02T21:53:03.144512Z",
     "shell.execute_reply": "2022-05-02T21:53:03.143686Z"
    },
    "papermill": {
     "duration": 0.153061,
     "end_time": "2022-05-02T21:53:03.147271",
     "exception": false,
     "start_time": "2022-05-02T21:53:02.994210",
     "status": "completed"
    },
    "tags": []
   },
   "outputs": [
    {
     "data": {
      "text/html": [
       "<div>\n",
       "<style scoped>\n",
       "    .dataframe tbody tr th:only-of-type {\n",
       "        vertical-align: middle;\n",
       "    }\n",
       "\n",
       "    .dataframe tbody tr th {\n",
       "        vertical-align: top;\n",
       "    }\n",
       "\n",
       "    .dataframe thead th {\n",
       "        text-align: right;\n",
       "    }\n",
       "</style>\n",
       "<table border=\"1\" class=\"dataframe\">\n",
       "  <thead>\n",
       "    <tr style=\"text-align: right;\">\n",
       "      <th></th>\n",
       "      <th>PassengerId</th>\n",
       "      <th>Survived</th>\n",
       "      <th>Pclass</th>\n",
       "      <th>Age</th>\n",
       "      <th>SibSp</th>\n",
       "      <th>Parch</th>\n",
       "      <th>Fare</th>\n",
       "    </tr>\n",
       "  </thead>\n",
       "  <tbody>\n",
       "    <tr>\n",
       "      <th>count</th>\n",
       "      <td>891.000000</td>\n",
       "      <td>891.000000</td>\n",
       "      <td>891.000000</td>\n",
       "      <td>714.000000</td>\n",
       "      <td>891.000000</td>\n",
       "      <td>891.000000</td>\n",
       "      <td>891.000000</td>\n",
       "    </tr>\n",
       "    <tr>\n",
       "      <th>mean</th>\n",
       "      <td>446.000000</td>\n",
       "      <td>0.383838</td>\n",
       "      <td>2.308642</td>\n",
       "      <td>29.699118</td>\n",
       "      <td>0.523008</td>\n",
       "      <td>0.381594</td>\n",
       "      <td>32.204208</td>\n",
       "    </tr>\n",
       "    <tr>\n",
       "      <th>std</th>\n",
       "      <td>257.353842</td>\n",
       "      <td>0.486592</td>\n",
       "      <td>0.836071</td>\n",
       "      <td>14.526497</td>\n",
       "      <td>1.102743</td>\n",
       "      <td>0.806057</td>\n",
       "      <td>49.693429</td>\n",
       "    </tr>\n",
       "    <tr>\n",
       "      <th>min</th>\n",
       "      <td>1.000000</td>\n",
       "      <td>0.000000</td>\n",
       "      <td>1.000000</td>\n",
       "      <td>0.420000</td>\n",
       "      <td>0.000000</td>\n",
       "      <td>0.000000</td>\n",
       "      <td>0.000000</td>\n",
       "    </tr>\n",
       "    <tr>\n",
       "      <th>25%</th>\n",
       "      <td>223.500000</td>\n",
       "      <td>0.000000</td>\n",
       "      <td>2.000000</td>\n",
       "      <td>20.125000</td>\n",
       "      <td>0.000000</td>\n",
       "      <td>0.000000</td>\n",
       "      <td>7.910400</td>\n",
       "    </tr>\n",
       "    <tr>\n",
       "      <th>50%</th>\n",
       "      <td>446.000000</td>\n",
       "      <td>0.000000</td>\n",
       "      <td>3.000000</td>\n",
       "      <td>28.000000</td>\n",
       "      <td>0.000000</td>\n",
       "      <td>0.000000</td>\n",
       "      <td>14.454200</td>\n",
       "    </tr>\n",
       "    <tr>\n",
       "      <th>75%</th>\n",
       "      <td>668.500000</td>\n",
       "      <td>1.000000</td>\n",
       "      <td>3.000000</td>\n",
       "      <td>38.000000</td>\n",
       "      <td>1.000000</td>\n",
       "      <td>0.000000</td>\n",
       "      <td>31.000000</td>\n",
       "    </tr>\n",
       "    <tr>\n",
       "      <th>max</th>\n",
       "      <td>891.000000</td>\n",
       "      <td>1.000000</td>\n",
       "      <td>3.000000</td>\n",
       "      <td>80.000000</td>\n",
       "      <td>8.000000</td>\n",
       "      <td>6.000000</td>\n",
       "      <td>512.329200</td>\n",
       "    </tr>\n",
       "  </tbody>\n",
       "</table>\n",
       "</div>"
      ],
      "text/plain": [
       "       PassengerId    Survived      Pclass         Age       SibSp  \\\n",
       "count   891.000000  891.000000  891.000000  714.000000  891.000000   \n",
       "mean    446.000000    0.383838    2.308642   29.699118    0.523008   \n",
       "std     257.353842    0.486592    0.836071   14.526497    1.102743   \n",
       "min       1.000000    0.000000    1.000000    0.420000    0.000000   \n",
       "25%     223.500000    0.000000    2.000000   20.125000    0.000000   \n",
       "50%     446.000000    0.000000    3.000000   28.000000    0.000000   \n",
       "75%     668.500000    1.000000    3.000000   38.000000    1.000000   \n",
       "max     891.000000    1.000000    3.000000   80.000000    8.000000   \n",
       "\n",
       "            Parch        Fare  \n",
       "count  891.000000  891.000000  \n",
       "mean     0.381594   32.204208  \n",
       "std      0.806057   49.693429  \n",
       "min      0.000000    0.000000  \n",
       "25%      0.000000    7.910400  \n",
       "50%      0.000000   14.454200  \n",
       "75%      0.000000   31.000000  \n",
       "max      6.000000  512.329200  "
      ]
     },
     "execution_count": 5,
     "metadata": {},
     "output_type": "execute_result"
    }
   ],
   "source": [
    "train_df.describe()"
   ]
  },
  {
   "cell_type": "code",
   "execution_count": 6,
   "id": "a279eaef",
   "metadata": {
    "execution": {
     "iopub.execute_input": "2022-05-02T21:53:03.362033Z",
     "iopub.status.busy": "2022-05-02T21:53:03.361413Z",
     "iopub.status.idle": "2022-05-02T21:53:03.365369Z",
     "shell.execute_reply": "2022-05-02T21:53:03.364823Z"
    },
    "papermill": {
     "duration": 0.107429,
     "end_time": "2022-05-02T21:53:03.367289",
     "exception": false,
     "start_time": "2022-05-02T21:53:03.259860",
     "status": "completed"
    },
    "tags": []
   },
   "outputs": [],
   "source": [
    "#В среднем выжило 38%\n",
    "#Возраст варируется от 0,4 до 80 лет\n",
    "#Также можем заметить пропущенные значения в возрасте, кабине (std)"
   ]
  },
  {
   "cell_type": "code",
   "execution_count": 7,
   "id": "e8fa8528",
   "metadata": {
    "execution": {
     "iopub.execute_input": "2022-05-02T21:53:03.552231Z",
     "iopub.status.busy": "2022-05-02T21:53:03.551663Z",
     "iopub.status.idle": "2022-05-02T21:53:03.568609Z",
     "shell.execute_reply": "2022-05-02T21:53:03.567779Z"
    },
    "papermill": {
     "duration": 0.112171,
     "end_time": "2022-05-02T21:53:03.570813",
     "exception": false,
     "start_time": "2022-05-02T21:53:03.458642",
     "status": "completed"
    },
    "tags": []
   },
   "outputs": [
    {
     "data": {
      "text/html": [
       "<div>\n",
       "<style scoped>\n",
       "    .dataframe tbody tr th:only-of-type {\n",
       "        vertical-align: middle;\n",
       "    }\n",
       "\n",
       "    .dataframe tbody tr th {\n",
       "        vertical-align: top;\n",
       "    }\n",
       "\n",
       "    .dataframe thead th {\n",
       "        text-align: right;\n",
       "    }\n",
       "</style>\n",
       "<table border=\"1\" class=\"dataframe\">\n",
       "  <thead>\n",
       "    <tr style=\"text-align: right;\">\n",
       "      <th></th>\n",
       "      <th>PassengerId</th>\n",
       "      <th>Survived</th>\n",
       "      <th>Pclass</th>\n",
       "      <th>Name</th>\n",
       "      <th>Sex</th>\n",
       "      <th>Age</th>\n",
       "      <th>SibSp</th>\n",
       "      <th>Parch</th>\n",
       "      <th>Ticket</th>\n",
       "      <th>Fare</th>\n",
       "      <th>Cabin</th>\n",
       "      <th>Embarked</th>\n",
       "    </tr>\n",
       "  </thead>\n",
       "  <tbody>\n",
       "    <tr>\n",
       "      <th>0</th>\n",
       "      <td>1</td>\n",
       "      <td>0</td>\n",
       "      <td>3</td>\n",
       "      <td>Braund, Mr. Owen Harris</td>\n",
       "      <td>male</td>\n",
       "      <td>22.0</td>\n",
       "      <td>1</td>\n",
       "      <td>0</td>\n",
       "      <td>A/5 21171</td>\n",
       "      <td>7.2500</td>\n",
       "      <td>NaN</td>\n",
       "      <td>S</td>\n",
       "    </tr>\n",
       "    <tr>\n",
       "      <th>1</th>\n",
       "      <td>2</td>\n",
       "      <td>1</td>\n",
       "      <td>1</td>\n",
       "      <td>Cumings, Mrs. John Bradley (Florence Briggs Th...</td>\n",
       "      <td>female</td>\n",
       "      <td>38.0</td>\n",
       "      <td>1</td>\n",
       "      <td>0</td>\n",
       "      <td>PC 17599</td>\n",
       "      <td>71.2833</td>\n",
       "      <td>C85</td>\n",
       "      <td>C</td>\n",
       "    </tr>\n",
       "    <tr>\n",
       "      <th>2</th>\n",
       "      <td>3</td>\n",
       "      <td>1</td>\n",
       "      <td>3</td>\n",
       "      <td>Heikkinen, Miss. Laina</td>\n",
       "      <td>female</td>\n",
       "      <td>26.0</td>\n",
       "      <td>0</td>\n",
       "      <td>0</td>\n",
       "      <td>STON/O2. 3101282</td>\n",
       "      <td>7.9250</td>\n",
       "      <td>NaN</td>\n",
       "      <td>S</td>\n",
       "    </tr>\n",
       "    <tr>\n",
       "      <th>3</th>\n",
       "      <td>4</td>\n",
       "      <td>1</td>\n",
       "      <td>1</td>\n",
       "      <td>Futrelle, Mrs. Jacques Heath (Lily May Peel)</td>\n",
       "      <td>female</td>\n",
       "      <td>35.0</td>\n",
       "      <td>1</td>\n",
       "      <td>0</td>\n",
       "      <td>113803</td>\n",
       "      <td>53.1000</td>\n",
       "      <td>C123</td>\n",
       "      <td>S</td>\n",
       "    </tr>\n",
       "    <tr>\n",
       "      <th>4</th>\n",
       "      <td>5</td>\n",
       "      <td>0</td>\n",
       "      <td>3</td>\n",
       "      <td>Allen, Mr. William Henry</td>\n",
       "      <td>male</td>\n",
       "      <td>35.0</td>\n",
       "      <td>0</td>\n",
       "      <td>0</td>\n",
       "      <td>373450</td>\n",
       "      <td>8.0500</td>\n",
       "      <td>NaN</td>\n",
       "      <td>S</td>\n",
       "    </tr>\n",
       "    <tr>\n",
       "      <th>5</th>\n",
       "      <td>6</td>\n",
       "      <td>0</td>\n",
       "      <td>3</td>\n",
       "      <td>Moran, Mr. James</td>\n",
       "      <td>male</td>\n",
       "      <td>NaN</td>\n",
       "      <td>0</td>\n",
       "      <td>0</td>\n",
       "      <td>330877</td>\n",
       "      <td>8.4583</td>\n",
       "      <td>NaN</td>\n",
       "      <td>Q</td>\n",
       "    </tr>\n",
       "    <tr>\n",
       "      <th>6</th>\n",
       "      <td>7</td>\n",
       "      <td>0</td>\n",
       "      <td>1</td>\n",
       "      <td>McCarthy, Mr. Timothy J</td>\n",
       "      <td>male</td>\n",
       "      <td>54.0</td>\n",
       "      <td>0</td>\n",
       "      <td>0</td>\n",
       "      <td>17463</td>\n",
       "      <td>51.8625</td>\n",
       "      <td>E46</td>\n",
       "      <td>S</td>\n",
       "    </tr>\n",
       "    <tr>\n",
       "      <th>7</th>\n",
       "      <td>8</td>\n",
       "      <td>0</td>\n",
       "      <td>3</td>\n",
       "      <td>Palsson, Master. Gosta Leonard</td>\n",
       "      <td>male</td>\n",
       "      <td>2.0</td>\n",
       "      <td>3</td>\n",
       "      <td>1</td>\n",
       "      <td>349909</td>\n",
       "      <td>21.0750</td>\n",
       "      <td>NaN</td>\n",
       "      <td>S</td>\n",
       "    </tr>\n",
       "  </tbody>\n",
       "</table>\n",
       "</div>"
      ],
      "text/plain": [
       "   PassengerId  Survived  Pclass  \\\n",
       "0            1         0       3   \n",
       "1            2         1       1   \n",
       "2            3         1       3   \n",
       "3            4         1       1   \n",
       "4            5         0       3   \n",
       "5            6         0       3   \n",
       "6            7         0       1   \n",
       "7            8         0       3   \n",
       "\n",
       "                                                Name     Sex   Age  SibSp  \\\n",
       "0                            Braund, Mr. Owen Harris    male  22.0      1   \n",
       "1  Cumings, Mrs. John Bradley (Florence Briggs Th...  female  38.0      1   \n",
       "2                             Heikkinen, Miss. Laina  female  26.0      0   \n",
       "3       Futrelle, Mrs. Jacques Heath (Lily May Peel)  female  35.0      1   \n",
       "4                           Allen, Mr. William Henry    male  35.0      0   \n",
       "5                                   Moran, Mr. James    male   NaN      0   \n",
       "6                            McCarthy, Mr. Timothy J    male  54.0      0   \n",
       "7                     Palsson, Master. Gosta Leonard    male   2.0      3   \n",
       "\n",
       "   Parch            Ticket     Fare Cabin Embarked  \n",
       "0      0         A/5 21171   7.2500   NaN        S  \n",
       "1      0          PC 17599  71.2833   C85        C  \n",
       "2      0  STON/O2. 3101282   7.9250   NaN        S  \n",
       "3      0            113803  53.1000  C123        S  \n",
       "4      0            373450   8.0500   NaN        S  \n",
       "5      0            330877   8.4583   NaN        Q  \n",
       "6      0             17463  51.8625   E46        S  \n",
       "7      1            349909  21.0750   NaN        S  "
      ]
     },
     "execution_count": 7,
     "metadata": {},
     "output_type": "execute_result"
    }
   ],
   "source": [
    "train_df.head(8)"
   ]
  },
  {
   "cell_type": "code",
   "execution_count": 8,
   "id": "75d76ba8",
   "metadata": {
    "execution": {
     "iopub.execute_input": "2022-05-02T21:53:03.757363Z",
     "iopub.status.busy": "2022-05-02T21:53:03.756984Z",
     "iopub.status.idle": "2022-05-02T21:53:03.761184Z",
     "shell.execute_reply": "2022-05-02T21:53:03.760386Z"
    },
    "papermill": {
     "duration": 0.099996,
     "end_time": "2022-05-02T21:53:03.763030",
     "exception": false,
     "start_time": "2022-05-02T21:53:03.663034",
     "status": "completed"
    },
    "tags": []
   },
   "outputs": [],
   "source": [
    "#нужно преобразовать множество признаков в числовые (Sex)\n",
    "#функции имеют очень разные диапазоны"
   ]
  },
  {
   "cell_type": "code",
   "execution_count": 9,
   "id": "7b660c18",
   "metadata": {
    "execution": {
     "iopub.execute_input": "2022-05-02T21:53:03.953560Z",
     "iopub.status.busy": "2022-05-02T21:53:03.953005Z",
     "iopub.status.idle": "2022-05-02T21:53:03.973446Z",
     "shell.execute_reply": "2022-05-02T21:53:03.972525Z"
    },
    "papermill": {
     "duration": 0.117165,
     "end_time": "2022-05-02T21:53:03.975749",
     "exception": false,
     "start_time": "2022-05-02T21:53:03.858584",
     "status": "completed"
    },
    "tags": []
   },
   "outputs": [
    {
     "data": {
      "text/html": [
       "<div>\n",
       "<style scoped>\n",
       "    .dataframe tbody tr th:only-of-type {\n",
       "        vertical-align: middle;\n",
       "    }\n",
       "\n",
       "    .dataframe tbody tr th {\n",
       "        vertical-align: top;\n",
       "    }\n",
       "\n",
       "    .dataframe thead th {\n",
       "        text-align: right;\n",
       "    }\n",
       "</style>\n",
       "<table border=\"1\" class=\"dataframe\">\n",
       "  <thead>\n",
       "    <tr style=\"text-align: right;\">\n",
       "      <th></th>\n",
       "      <th>Total</th>\n",
       "      <th>%</th>\n",
       "    </tr>\n",
       "  </thead>\n",
       "  <tbody>\n",
       "    <tr>\n",
       "      <th>Cabin</th>\n",
       "      <td>687</td>\n",
       "      <td>77.1</td>\n",
       "    </tr>\n",
       "    <tr>\n",
       "      <th>Age</th>\n",
       "      <td>177</td>\n",
       "      <td>19.9</td>\n",
       "    </tr>\n",
       "    <tr>\n",
       "      <th>Embarked</th>\n",
       "      <td>2</td>\n",
       "      <td>0.2</td>\n",
       "    </tr>\n",
       "    <tr>\n",
       "      <th>PassengerId</th>\n",
       "      <td>0</td>\n",
       "      <td>0.0</td>\n",
       "    </tr>\n",
       "    <tr>\n",
       "      <th>Survived</th>\n",
       "      <td>0</td>\n",
       "      <td>0.0</td>\n",
       "    </tr>\n",
       "  </tbody>\n",
       "</table>\n",
       "</div>"
      ],
      "text/plain": [
       "             Total     %\n",
       "Cabin          687  77.1\n",
       "Age            177  19.9\n",
       "Embarked         2   0.2\n",
       "PassengerId      0   0.0\n",
       "Survived         0   0.0"
      ]
     },
     "execution_count": 9,
     "metadata": {},
     "output_type": "execute_result"
    }
   ],
   "source": [
    "total = train_df.isnull().sum().sort_values(ascending=False)\n",
    "\n",
    "\n",
    "percent_1 = train_df.isnull().sum()/train_df.isnull().count()*100\n",
    "percent_2 = (round(percent_1, 1)).sort_values(ascending=False)\n",
    "\n",
    "\n",
    "missing_data = pd.concat([total, percent_2], axis=1, keys=['Total', '%'])\n",
    "missing_data.head(5)\n",
    "\n",
    "#Ищем пропущенные значения isNull = Detect missing values for an array-like object."
   ]
  },
  {
   "cell_type": "code",
   "execution_count": 10,
   "id": "44a24a50",
   "metadata": {
    "execution": {
     "iopub.execute_input": "2022-05-02T21:53:04.166376Z",
     "iopub.status.busy": "2022-05-02T21:53:04.166062Z",
     "iopub.status.idle": "2022-05-02T21:53:04.170260Z",
     "shell.execute_reply": "2022-05-02T21:53:04.169196Z"
    },
    "papermill": {
     "duration": 0.10209,
     "end_time": "2022-05-02T21:53:04.172365",
     "exception": false,
     "start_time": "2022-05-02T21:53:04.070275",
     "status": "completed"
    },
    "tags": []
   },
   "outputs": [],
   "source": [
    "# Embarked - легко заполнить, тогда как Age - 19 процентов пропущено, Кабину можем убрать вообще"
   ]
  },
  {
   "cell_type": "code",
   "execution_count": null,
   "id": "419c500c",
   "metadata": {
    "papermill": {
     "duration": 0.09192,
     "end_time": "2022-05-02T21:53:04.358325",
     "exception": false,
     "start_time": "2022-05-02T21:53:04.266405",
     "status": "completed"
    },
    "tags": []
   },
   "outputs": [],
   "source": []
  },
  {
   "cell_type": "code",
   "execution_count": 11,
   "id": "1d37ce21",
   "metadata": {
    "execution": {
     "iopub.execute_input": "2022-05-02T21:53:04.543541Z",
     "iopub.status.busy": "2022-05-02T21:53:04.543242Z",
     "iopub.status.idle": "2022-05-02T21:53:04.546732Z",
     "shell.execute_reply": "2022-05-02T21:53:04.545970Z"
    },
    "papermill": {
     "duration": 0.098778,
     "end_time": "2022-05-02T21:53:04.548834",
     "exception": false,
     "start_time": "2022-05-02T21:53:04.450056",
     "status": "completed"
    },
    "tags": []
   },
   "outputs": [],
   "source": [
    "#Какие особенности могут способствовать высокой выживаемости?,\n",
    "#Для меня было бы разумно, если бы все, кроме «PassengerId», «Ticket» и «Name», коррелировало бы с высокой степенью выживаемости."
   ]
  },
  {
   "cell_type": "code",
   "execution_count": 12,
   "id": "8c5d8f59",
   "metadata": {
    "execution": {
     "iopub.execute_input": "2022-05-02T21:53:04.740696Z",
     "iopub.status.busy": "2022-05-02T21:53:04.740013Z",
     "iopub.status.idle": "2022-05-02T21:53:04.744229Z",
     "shell.execute_reply": "2022-05-02T21:53:04.743528Z"
    },
    "papermill": {
     "duration": 0.103618,
     "end_time": "2022-05-02T21:53:04.746261",
     "exception": false,
     "start_time": "2022-05-02T21:53:04.642643",
     "status": "completed"
    },
    "tags": []
   },
   "outputs": [],
   "source": [
    "#1._Возраст и пол"
   ]
  },
  {
   "cell_type": "code",
   "execution_count": 13,
   "id": "b877c939",
   "metadata": {
    "execution": {
     "iopub.execute_input": "2022-05-02T21:53:04.937918Z",
     "iopub.status.busy": "2022-05-02T21:53:04.937586Z",
     "iopub.status.idle": "2022-05-02T21:53:05.598536Z",
     "shell.execute_reply": "2022-05-02T21:53:05.597598Z"
    },
    "papermill": {
     "duration": 0.759072,
     "end_time": "2022-05-02T21:53:05.600760",
     "exception": false,
     "start_time": "2022-05-02T21:53:04.841688",
     "status": "completed"
    },
    "tags": []
   },
   "outputs": [
    {
     "name": "stderr",
     "output_type": "stream",
     "text": [
      "/opt/conda/lib/python3.7/site-packages/seaborn/distributions.py:2619: FutureWarning: `distplot` is a deprecated function and will be removed in a future version. Please adapt your code to use either `displot` (a figure-level function with similar flexibility) or `histplot` (an axes-level function for histograms).\n",
      "  warnings.warn(msg, FutureWarning)\n"
     ]
    },
    {
     "data": {
      "image/png": "[encoded data removed]",
      "text/plain": [
       "<Figure size 720x288 with 2 Axes>"
      ]
     },
     "metadata": {
      "needs_background": "light"
     },
     "output_type": "display_data"
    }
   ],
   "source": [
    "survived = 'survived'\n",
    "not_survived = 'not survived'\n",
    "\n",
    "#назначаем переменные на пол\n",
    "fig, axes = plt.subplots(nrows=1, ncols=2,figsize=(10, 4))\n",
    "women = train_df[train_df['Sex']=='female']\n",
    "men = train_df[train_df['Sex']=='male']\n",
    "\n",
    "\n",
    "ax = sns.distplot(women[women['Survived']==1].Age.dropna(), bins=18, label = survived, ax = axes[0], kde =False)\n",
    "ax = sns.distplot(women[women['Survived']==0].Age.dropna(), bins=40, label = not_survived, ax = axes[0], kde =False)\n",
    "ax.legend()\n",
    "ax.set_title('Female')\n",
    "\n",
    "ax = sns.distplot(men[men['Survived']==1].Age.dropna(), bins=18, label = survived, ax = axes[1], kde = False)\n",
    "ax = sns.distplot(men[men['Survived']==0].Age.dropna(), bins=40, label = not_survived, ax = axes[1], kde = False)\n",
    "ax.legend()\n",
    "_ = ax.set_title('Male')\n",
    "\n",
    "#графики частотности относительно возраста и полов"
   ]
  },
  {
   "cell_type": "code",
   "execution_count": 14,
   "id": "f926a522",
   "metadata": {
    "execution": {
     "iopub.execute_input": "2022-05-02T21:53:05.796518Z",
     "iopub.status.busy": "2022-05-02T21:53:05.796205Z",
     "iopub.status.idle": "2022-05-02T21:53:05.800487Z",
     "shell.execute_reply": "2022-05-02T21:53:05.799611Z"
    },
    "papermill": {
     "duration": 0.104644,
     "end_time": "2022-05-02T21:53:05.802564",
     "exception": false,
     "start_time": "2022-05-02T21:53:05.697920",
     "status": "completed"
    },
    "tags": []
   },
   "outputs": [],
   "source": [
    "#графики частотности относительно возраста и полов\n",
    "#Вы можете видеть, что мужчины имеют высокую вероятность выживания в возрасте от 18 до 30 лет, \n",
    "#что также немного верно для женщин, но не полностью. Для женщин шансы на выживание выше между 14 и 40 годами.\n",
    "#Для мужчин вероятность выживания очень мала в возрасте от 5 до 18 лет, но это не так для женщин. \n",
    "#Еще одна вещь, которую следует отметить, это то, что у младенцев также немного выше вероятность выживания."
   ]
  },
  {
   "cell_type": "code",
   "execution_count": 15,
   "id": "91b2d3a7",
   "metadata": {
    "execution": {
     "iopub.execute_input": "2022-05-02T21:53:05.996585Z",
     "iopub.status.busy": "2022-05-02T21:53:05.995925Z",
     "iopub.status.idle": "2022-05-02T21:53:06.001539Z",
     "shell.execute_reply": "2022-05-02T21:53:06.000054Z"
    },
    "papermill": {
     "duration": 0.105733,
     "end_time": "2022-05-02T21:53:06.003554",
     "exception": false,
     "start_time": "2022-05-02T21:53:05.897821",
     "status": "completed"
    },
    "tags": []
   },
   "outputs": [],
   "source": [
    "#2_Посадка, класс и пол"
   ]
  },
  {
   "cell_type": "code",
   "execution_count": 16,
   "id": "fab92ed4",
   "metadata": {
    "execution": {
     "iopub.execute_input": "2022-05-02T21:53:06.195816Z",
     "iopub.status.busy": "2022-05-02T21:53:06.195173Z",
     "iopub.status.idle": "2022-05-02T21:53:07.550286Z",
     "shell.execute_reply": "2022-05-02T21:53:07.548845Z"
    },
    "papermill": {
     "duration": 1.453501,
     "end_time": "2022-05-02T21:53:07.552947",
     "exception": false,
     "start_time": "2022-05-02T21:53:06.099446",
     "status": "completed"
    },
    "tags": []
   },
   "outputs": [
    {
     "name": "stderr",
     "output_type": "stream",
     "text": [
      "/opt/conda/lib/python3.7/site-packages/seaborn/axisgrid.py:337: UserWarning: The `size` parameter has been renamed to `height`; please update your code.\n",
      "  warnings.warn(msg, UserWarning)\n"
     ]
    },
    {
     "data": {
      "text/plain": [
       "<seaborn.axisgrid.FacetGrid at 0x7fbb3145f1d0>"
      ]
     },
     "execution_count": 16,
     "metadata": {},
     "output_type": "execute_result"
    },
    {
     "data": {
      "image/png": "[encoded data removed]",
      "text/plain": [
       "<Figure size 588.9x972 with 3 Axes>"
      ]
     },
     "metadata": {
      "needs_background": "light"
     },
     "output_type": "display_data"
    }
   ],
   "source": [
    "FacetGrid = sns.FacetGrid(train_df, row='Embarked', size=4.5, aspect=1.6)\n",
    "\n",
    "FacetGrid.map(sns.pointplot, 'Pclass', 'Survived', 'Sex', palette=None,  order=None, hue_order=None )\n",
    "FacetGrid.add_legend()"
   ]
  },
  {
   "cell_type": "code",
   "execution_count": 17,
   "id": "d4066d04",
   "metadata": {
    "execution": {
     "iopub.execute_input": "2022-05-02T21:53:07.759820Z",
     "iopub.status.busy": "2022-05-02T21:53:07.759128Z",
     "iopub.status.idle": "2022-05-02T21:53:07.763589Z",
     "shell.execute_reply": "2022-05-02T21:53:07.762626Z"
    },
    "papermill": {
     "duration": 0.109703,
     "end_time": "2022-05-02T21:53:07.765997",
     "exception": false,
     "start_time": "2022-05-02T21:53:07.656294",
     "status": "completed"
    },
    "tags": []
   },
   "outputs": [],
   "source": [
    "#Женщины в порту Q и порте S имеют более высокие шансы на выживание. Обратное верно, если они находятся в порту C. \n",
    "#У мужчин высокая вероятность выживания, если они находятся в порту C, и низкая вероятность, если они находятся в порту Q или S."
   ]
  },
  {
   "cell_type": "code",
   "execution_count": 18,
   "id": "0ea842bc",
   "metadata": {
    "execution": {
     "iopub.execute_input": "2022-05-02T21:53:07.968787Z",
     "iopub.status.busy": "2022-05-02T21:53:07.968484Z",
     "iopub.status.idle": "2022-05-02T21:53:07.972445Z",
     "shell.execute_reply": "2022-05-02T21:53:07.971428Z"
    },
    "papermill": {
     "duration": 0.106029,
     "end_time": "2022-05-02T21:53:07.974529",
     "exception": false,
     "start_time": "2022-05-02T21:53:07.868500",
     "status": "completed"
    },
    "tags": []
   },
   "outputs": [],
   "source": [
    "#3_Класс"
   ]
  },
  {
   "cell_type": "code",
   "execution_count": 19,
   "id": "eb49d7b1",
   "metadata": {
    "execution": {
     "iopub.execute_input": "2022-05-02T21:53:08.178206Z",
     "iopub.status.busy": "2022-05-02T21:53:08.177930Z",
     "iopub.status.idle": "2022-05-02T21:53:08.589373Z",
     "shell.execute_reply": "2022-05-02T21:53:08.588321Z"
    },
    "papermill": {
     "duration": 0.516628,
     "end_time": "2022-05-02T21:53:08.591972",
     "exception": false,
     "start_time": "2022-05-02T21:53:08.075344",
     "status": "completed"
    },
    "tags": []
   },
   "outputs": [
    {
     "data": {
      "text/plain": [
       "<AxesSubplot:xlabel='Pclass', ylabel='Survived'>"
      ]
     },
     "execution_count": 19,
     "metadata": {},
     "output_type": "execute_result"
    },
    {
     "data": {
      "image/png": "[encoded data removed]",
      "text/plain": [
       "<Figure size 432x288 with 1 Axes>"
      ]
     },
     "metadata": {
      "needs_background": "light"
     },
     "output_type": "display_data"
    }
   ],
   "source": [
    "sns.barplot(x='Pclass', y='Survived', data=train_df)"
   ]
  },
  {
   "cell_type": "code",
   "execution_count": 20,
   "id": "07bf3165",
   "metadata": {
    "execution": {
     "iopub.execute_input": "2022-05-02T21:53:08.799847Z",
     "iopub.status.busy": "2022-05-02T21:53:08.799501Z",
     "iopub.status.idle": "2022-05-02T21:53:08.803842Z",
     "shell.execute_reply": "2022-05-02T21:53:08.803044Z"
    },
    "papermill": {
     "duration": 0.110794,
     "end_time": "2022-05-02T21:53:08.805791",
     "exception": false,
     "start_time": "2022-05-02T21:53:08.694997",
     "status": "completed"
    },
    "tags": []
   },
   "outputs": [],
   "source": [
    "#Здесь мы ясно видим, что Pclass увеличивает шансы человека на выживание, особенно если этот человек относится к классу 1. \n",
    "#Ниже мы создадим еще один график pclass."
   ]
  },
  {
   "cell_type": "code",
   "execution_count": 21,
   "id": "964b7a49",
   "metadata": {
    "execution": {
     "iopub.execute_input": "2022-05-02T21:53:09.030373Z",
     "iopub.status.busy": "2022-05-02T21:53:09.030001Z",
     "iopub.status.idle": "2022-05-02T21:53:10.529289Z",
     "shell.execute_reply": "2022-05-02T21:53:10.528478Z"
    },
    "papermill": {
     "duration": 1.61239,
     "end_time": "2022-05-02T21:53:10.531763",
     "exception": false,
     "start_time": "2022-05-02T21:53:08.919373",
     "status": "completed"
    },
    "tags": []
   },
   "outputs": [
    {
     "name": "stderr",
     "output_type": "stream",
     "text": [
      "/opt/conda/lib/python3.7/site-packages/seaborn/axisgrid.py:337: UserWarning: The `size` parameter has been renamed to `height`; please update your code.\n",
      "  warnings.warn(msg, UserWarning)\n"
     ]
    },
    {
     "data": {
      "image/png": "[encoded data removed]",
      "text/plain": [
       "<Figure size 514.88x475.2 with 6 Axes>"
      ]
     },
     "metadata": {
      "needs_background": "light"
     },
     "output_type": "display_data"
    }
   ],
   "source": [
    "grid = sns.FacetGrid(train_df, col='Survived', row='Pclass', size=2.2, aspect=1.6) \n",
    "grid.map(plt.hist, 'Age', alpha=.5, bins=20) \n",
    "grid .add_legend();\n",
    "\n",
    "#График выше подтверждает наше предположение о pклассе 1, \n",
    "#но мы также можем отметить высокую вероятность того, что человек из pкласса 3 не выживет."
   ]
  },
  {
   "cell_type": "code",
   "execution_count": 22,
   "id": "832cd7ca",
   "metadata": {
    "execution": {
     "iopub.execute_input": "2022-05-02T21:53:10.738921Z",
     "iopub.status.busy": "2022-05-02T21:53:10.738306Z",
     "iopub.status.idle": "2022-05-02T21:53:10.742608Z",
     "shell.execute_reply": "2022-05-02T21:53:10.741877Z"
    },
    "papermill": {
     "duration": 0.107457,
     "end_time": "2022-05-02T21:53:10.744845",
     "exception": false,
     "start_time": "2022-05-02T21:53:10.637388",
     "status": "completed"
    },
    "tags": []
   },
   "outputs": [],
   "source": [
    "#4_Родственные связи"
   ]
  },
  {
   "cell_type": "code",
   "execution_count": 23,
   "id": "90c2c61c",
   "metadata": {
    "execution": {
     "iopub.execute_input": "2022-05-02T21:53:10.948768Z",
     "iopub.status.busy": "2022-05-02T21:53:10.948155Z",
     "iopub.status.idle": "2022-05-02T21:53:10.964850Z",
     "shell.execute_reply": "2022-05-02T21:53:10.963874Z"
    },
    "papermill": {
     "duration": 0.121657,
     "end_time": "2022-05-02T21:53:10.967064",
     "exception": false,
     "start_time": "2022-05-02T21:53:10.845407",
     "status": "completed"
    },
    "tags": []
   },
   "outputs": [
    {
     "data": {
      "text/plain": [
       "1    537\n",
       "0    354\n",
       "Name: not_alone, dtype: int64"
      ]
     },
     "execution_count": 23,
     "metadata": {},
     "output_type": "execute_result"
    }
   ],
   "source": [
    "data = [train_df, test_df]\n",
    "for dataset in data:\n",
    "    dataset['relatives'] = dataset['SibSp'] + dataset['Parch']\n",
    "    dataset.loc[dataset['relatives'] > 0, 'not_alone'] = 0\n",
    "    dataset.loc[dataset['relatives'] == 0, 'not_alone'] = 1\n",
    "    \n",
    "    dataset['not_alone'] = dataset['not_alone'].astype(int)\n",
    "train_df['not_alone'].value_counts()\n",
    "\n",
    "#Небольшая функция, которая считает количество родственных связей, где 0 - количество с показателем больше нуля, а 1 - одиночек"
   ]
  },
  {
   "cell_type": "code",
   "execution_count": 24,
   "id": "b0774491",
   "metadata": {
    "execution": {
     "iopub.execute_input": "2022-05-02T21:53:11.174842Z",
     "iopub.status.busy": "2022-05-02T21:53:11.174299Z",
     "iopub.status.idle": "2022-05-02T21:53:11.820918Z",
     "shell.execute_reply": "2022-05-02T21:53:11.819900Z"
    },
    "papermill": {
     "duration": 0.752724,
     "end_time": "2022-05-02T21:53:11.823651",
     "exception": false,
     "start_time": "2022-05-02T21:53:11.070927",
     "status": "completed"
    },
    "tags": []
   },
   "outputs": [
    {
     "name": "stderr",
     "output_type": "stream",
     "text": [
      "/opt/conda/lib/python3.7/site-packages/seaborn/categorical.py:3717: UserWarning: The `factorplot` function has been renamed to `catplot`. The original name will be removed in a future release. Please update your code. Note that the default `kind` in `factorplot` (`'point'`) has changed `'strip'` in `catplot`.\n",
      "  warnings.warn(msg)\n",
      "/opt/conda/lib/python3.7/site-packages/seaborn/_decorators.py:43: FutureWarning: Pass the following variables as keyword args: x, y. From version 0.12, the only valid positional argument will be `data`, and passing other arguments without an explicit keyword will result in an error or misinterpretation.\n",
      "  FutureWarning\n"
     ]
    },
    {
     "data": {
      "image/png": "[encoded data removed]",
      "text/plain": [
       "<Figure size 900x360 with 1 Axes>"
      ]
     },
     "metadata": {
      "needs_background": "light"
     },
     "output_type": "display_data"
    }
   ],
   "source": [
    "axes = sns.factorplot('relatives','Survived', \n",
    "                      data=train_df, aspect = 2.5,)"
   ]
  },
  {
   "cell_type": "code",
   "execution_count": 25,
   "id": "0e17fcef",
   "metadata": {
    "execution": {
     "iopub.execute_input": "2022-05-02T21:53:12.047067Z",
     "iopub.status.busy": "2022-05-02T21:53:12.046561Z",
     "iopub.status.idle": "2022-05-02T21:53:12.050433Z",
     "shell.execute_reply": "2022-05-02T21:53:12.049383Z"
    },
    "papermill": {
     "duration": 0.122133,
     "end_time": "2022-05-02T21:53:12.054307",
     "exception": false,
     "start_time": "2022-05-02T21:53:11.932174",
     "status": "completed"
    },
    "tags": []
   },
   "outputs": [],
   "source": [
    "#от 1-до 3 высокая веротность выживаемости, также ситуация выше с 6 в некоторых случаях"
   ]
  },
  {
   "cell_type": "code",
   "execution_count": 26,
   "id": "0e4327b8",
   "metadata": {
    "execution": {
     "iopub.execute_input": "2022-05-02T21:53:12.268832Z",
     "iopub.status.busy": "2022-05-02T21:53:12.268167Z",
     "iopub.status.idle": "2022-05-02T21:53:12.271785Z",
     "shell.execute_reply": "2022-05-02T21:53:12.271057Z"
    },
    "papermill": {
     "duration": 0.114844,
     "end_time": "2022-05-02T21:53:12.274197",
     "exception": false,
     "start_time": "2022-05-02T21:53:12.159353",
     "status": "completed"
    },
    "tags": []
   },
   "outputs": [],
   "source": [
    "#предварительная обработка данных"
   ]
  },
  {
   "cell_type": "code",
   "execution_count": 27,
   "id": "5cfd3d14",
   "metadata": {
    "execution": {
     "iopub.execute_input": "2022-05-02T21:53:12.495001Z",
     "iopub.status.busy": "2022-05-02T21:53:12.494399Z",
     "iopub.status.idle": "2022-05-02T21:53:12.499322Z",
     "shell.execute_reply": "2022-05-02T21:53:12.498703Z"
    },
    "papermill": {
     "duration": 0.116536,
     "end_time": "2022-05-02T21:53:12.501365",
     "exception": false,
     "start_time": "2022-05-02T21:53:12.384829",
     "status": "completed"
    },
    "tags": []
   },
   "outputs": [],
   "source": [
    "train_df = train_df.drop(['PassengerId'], axis=1)\n",
    "\n",
    "#Убираем индексирование пасажиров"
   ]
  },
  {
   "cell_type": "code",
   "execution_count": 28,
   "id": "41a846a0",
   "metadata": {
    "execution": {
     "iopub.execute_input": "2022-05-02T21:53:12.712964Z",
     "iopub.status.busy": "2022-05-02T21:53:12.712605Z",
     "iopub.status.idle": "2022-05-02T21:53:12.716409Z",
     "shell.execute_reply": "2022-05-02T21:53:12.715623Z"
    },
    "papermill": {
     "duration": 0.112063,
     "end_time": "2022-05-02T21:53:12.718453",
     "exception": false,
     "start_time": "2022-05-02T21:53:12.606390",
     "status": "completed"
    },
    "tags": []
   },
   "outputs": [],
   "source": [
    "#Убираем ячейки, в которых ничего нет\n",
    "# В кабинах пожразделяем буквы на палубы и индексы"
   ]
  },
  {
   "cell_type": "code",
   "execution_count": 29,
   "id": "c4e3645c",
   "metadata": {
    "execution": {
     "iopub.execute_input": "2022-05-02T21:53:12.944279Z",
     "iopub.status.busy": "2022-05-02T21:53:12.943561Z",
     "iopub.status.idle": "2022-05-02T21:53:12.962217Z",
     "shell.execute_reply": "2022-05-02T21:53:12.961127Z"
    },
    "papermill": {
     "duration": 0.138356,
     "end_time": "2022-05-02T21:53:12.964487",
     "exception": false,
     "start_time": "2022-05-02T21:53:12.826131",
     "status": "completed"
    },
    "tags": []
   },
   "outputs": [],
   "source": [
    "import re\n",
    "deck = {\"A\": 1, \"B\": 2, \"C\": 3, \"D\": 4, \"E\": 5, \"F\": 6, \"G\": 7, \"U\": 8}\n",
    "data = [train_df, test_df]\n",
    "\n",
    "for dataset in data:\n",
    "    dataset['Cabin'] = dataset['Cabin'].fillna(\"U0\")\n",
    "    dataset['Deck'] = dataset['Cabin'].map(lambda x: re.compile(\"([a-zA-Z]+)\").search(x).group())\n",
    "    dataset['Deck'] = dataset['Deck'].map(deck)\n",
    "    dataset['Deck'] = dataset['Deck'].fillna(0)\n",
    "    dataset['Deck'] = dataset['Deck'].astype(int)\n",
    "# we can now drop the cabin feature\n",
    "train_df = train_df.drop(['Cabin'], axis=1)\n",
    "test_df = test_df.drop(['Cabin'], axis=1)"
   ]
  },
  {
   "cell_type": "code",
   "execution_count": 30,
   "id": "5d1a2ce4",
   "metadata": {
    "execution": {
     "iopub.execute_input": "2022-05-02T21:53:13.181936Z",
     "iopub.status.busy": "2022-05-02T21:53:13.181607Z",
     "iopub.status.idle": "2022-05-02T21:53:13.200208Z",
     "shell.execute_reply": "2022-05-02T21:53:13.199389Z"
    },
    "papermill": {
     "duration": 0.13115,
     "end_time": "2022-05-02T21:53:13.202737",
     "exception": false,
     "start_time": "2022-05-02T21:53:13.071587",
     "status": "completed"
    },
    "tags": []
   },
   "outputs": [
    {
     "data": {
      "text/plain": [
       "0"
      ]
     },
     "execution_count": 30,
     "metadata": {},
     "output_type": "execute_result"
    }
   ],
   "source": [
    "data = [train_df, test_df]\n",
    "\n",
    "for dataset in data:\n",
    "    mean = train_df[\"Age\"].mean()\n",
    "    std = test_df[\"Age\"].std()\n",
    "    is_null = dataset[\"Age\"].isnull().sum()\n",
    "    # compute random numbers between the mean, std and is_null\n",
    "    rand_age = np.random.randint(mean - std, mean + std, size = is_null)\n",
    "    # fill NaN values in Age column with random values generated\n",
    "    age_slice = dataset[\"Age\"].copy()\n",
    "    age_slice[np.isnan(age_slice)] = rand_age\n",
    "    dataset[\"Age\"] = age_slice\n",
    "    dataset[\"Age\"] = train_df[\"Age\"].astype(int)\n",
    "train_df[\"Age\"].isnull().sum()"
   ]
  },
  {
   "cell_type": "code",
   "execution_count": 31,
   "id": "3b93f98e",
   "metadata": {
    "execution": {
     "iopub.execute_input": "2022-05-02T21:53:13.415534Z",
     "iopub.status.busy": "2022-05-02T21:53:13.414910Z",
     "iopub.status.idle": "2022-05-02T21:53:13.424705Z",
     "shell.execute_reply": "2022-05-02T21:53:13.423817Z"
    },
    "papermill": {
     "duration": 0.118961,
     "end_time": "2022-05-02T21:53:13.426941",
     "exception": false,
     "start_time": "2022-05-02T21:53:13.307980",
     "status": "completed"
    },
    "tags": []
   },
   "outputs": [
    {
     "data": {
      "text/plain": [
       "count     889\n",
       "unique      3\n",
       "top         S\n",
       "freq      644\n",
       "Name: Embarked, dtype: object"
      ]
     },
     "execution_count": 31,
     "metadata": {},
     "output_type": "execute_result"
    }
   ],
   "source": [
    "train_df['Embarked'].describe()\n",
    "\n",
    "#Очень часто повторяется S записываем в эти оставшиеся 3 значения букву S"
   ]
  },
  {
   "cell_type": "code",
   "execution_count": 32,
   "id": "9c9e9b00",
   "metadata": {
    "execution": {
     "iopub.execute_input": "2022-05-02T21:53:13.632772Z",
     "iopub.status.busy": "2022-05-02T21:53:13.632116Z",
     "iopub.status.idle": "2022-05-02T21:53:13.638817Z",
     "shell.execute_reply": "2022-05-02T21:53:13.638090Z"
    },
    "papermill": {
     "duration": 0.112993,
     "end_time": "2022-05-02T21:53:13.641155",
     "exception": false,
     "start_time": "2022-05-02T21:53:13.528162",
     "status": "completed"
    },
    "tags": []
   },
   "outputs": [],
   "source": [
    "common_value = 'S'\n",
    "data = [train_df, test_df]\n",
    "\n",
    "for dataset in data:\n",
    "    dataset['Embarked'] = dataset['Embarked'].fillna(common_value)"
   ]
  },
  {
   "cell_type": "code",
   "execution_count": 33,
   "id": "d8e4c320",
   "metadata": {
    "execution": {
     "iopub.execute_input": "2022-05-02T21:53:13.868787Z",
     "iopub.status.busy": "2022-05-02T21:53:13.868460Z",
     "iopub.status.idle": "2022-05-02T21:53:13.883084Z",
     "shell.execute_reply": "2022-05-02T21:53:13.882067Z"
    },
    "papermill": {
     "duration": 0.127067,
     "end_time": "2022-05-02T21:53:13.886065",
     "exception": false,
     "start_time": "2022-05-02T21:53:13.758998",
     "status": "completed"
    },
    "tags": []
   },
   "outputs": [
    {
     "name": "stdout",
     "output_type": "stream",
     "text": [
      "<class 'pandas.core.frame.DataFrame'>\n",
      "RangeIndex: 891 entries, 0 to 890\n",
      "Data columns (total 13 columns):\n",
      " #   Column     Non-Null Count  Dtype  \n",
      "---  ------     --------------  -----  \n",
      " 0   Survived   891 non-null    int64  \n",
      " 1   Pclass     891 non-null    int64  \n",
      " 2   Name       891 non-null    object \n",
      " 3   Sex        891 non-null    object \n",
      " 4   Age        891 non-null    int64  \n",
      " 5   SibSp      891 non-null    int64  \n",
      " 6   Parch      891 non-null    int64  \n",
      " 7   Ticket     891 non-null    object \n",
      " 8   Fare       891 non-null    float64\n",
      " 9   Embarked   891 non-null    object \n",
      " 10  relatives  891 non-null    int64  \n",
      " 11  not_alone  891 non-null    int64  \n",
      " 12  Deck       891 non-null    int64  \n",
      "dtypes: float64(1), int64(8), object(4)\n",
      "memory usage: 90.6+ KB\n"
     ]
    }
   ],
   "source": [
    "train_df.info()"
   ]
  },
  {
   "cell_type": "code",
   "execution_count": 34,
   "id": "32e97ca0",
   "metadata": {
    "execution": {
     "iopub.execute_input": "2022-05-02T21:53:14.143028Z",
     "iopub.status.busy": "2022-05-02T21:53:14.142693Z",
     "iopub.status.idle": "2022-05-02T21:53:14.147036Z",
     "shell.execute_reply": "2022-05-02T21:53:14.145888Z"
    },
    "papermill": {
     "duration": 0.135429,
     "end_time": "2022-05-02T21:53:14.149422",
     "exception": false,
     "start_time": "2022-05-02T21:53:14.013993",
     "status": "completed"
    },
    "tags": []
   },
   "outputs": [],
   "source": [
    "#Выше вы можете видеть, что «Fare» — это число с плавающей запятой, и нам приходится иметь дело с 4 категориальными признаками: \n",
    "#Name, Sex, Ticket и Embarked. Давайте исследовать и переходить один за другим."
   ]
  },
  {
   "cell_type": "code",
   "execution_count": 35,
   "id": "91bd19a7",
   "metadata": {
    "execution": {
     "iopub.execute_input": "2022-05-02T21:53:14.368771Z",
     "iopub.status.busy": "2022-05-02T21:53:14.368470Z",
     "iopub.status.idle": "2022-05-02T21:53:14.377478Z",
     "shell.execute_reply": "2022-05-02T21:53:14.376429Z"
    },
    "papermill": {
     "duration": 0.117213,
     "end_time": "2022-05-02T21:53:14.379607",
     "exception": false,
     "start_time": "2022-05-02T21:53:14.262394",
     "status": "completed"
    },
    "tags": []
   },
   "outputs": [
    {
     "data": {
      "text/plain": [
       "0       7.2500\n",
       "1      71.2833\n",
       "2       7.9250\n",
       "3      53.1000\n",
       "4       8.0500\n",
       "        ...   \n",
       "886    13.0000\n",
       "887    30.0000\n",
       "888    23.4500\n",
       "889    30.0000\n",
       "890     7.7500\n",
       "Name: Fare, Length: 891, dtype: float64"
      ]
     },
     "execution_count": 35,
     "metadata": {},
     "output_type": "execute_result"
    }
   ],
   "source": [
    "train_df.Fare"
   ]
  },
  {
   "cell_type": "code",
   "execution_count": 36,
   "id": "9b0fb64b",
   "metadata": {
    "execution": {
     "iopub.execute_input": "2022-05-02T21:53:14.588225Z",
     "iopub.status.busy": "2022-05-02T21:53:14.587608Z",
     "iopub.status.idle": "2022-05-02T21:53:14.595467Z",
     "shell.execute_reply": "2022-05-02T21:53:14.594421Z"
    },
    "papermill": {
     "duration": 0.115505,
     "end_time": "2022-05-02T21:53:14.597770",
     "exception": false,
     "start_time": "2022-05-02T21:53:14.482265",
     "status": "completed"
    },
    "tags": []
   },
   "outputs": [],
   "source": [
    "data = [train_df, test_df]\n",
    "for dataset in data:\n",
    "    dataset['Fare'] = dataset['Fare'].fillna(0)\n",
    "    dataset['Fare'] = dataset['Fare'].astype(int)"
   ]
  },
  {
   "cell_type": "code",
   "execution_count": 37,
   "id": "f4cd3ad6",
   "metadata": {
    "execution": {
     "iopub.execute_input": "2022-05-02T21:53:14.814857Z",
     "iopub.status.busy": "2022-05-02T21:53:14.814503Z",
     "iopub.status.idle": "2022-05-02T21:53:14.818501Z",
     "shell.execute_reply": "2022-05-02T21:53:14.817392Z"
    },
    "papermill": {
     "duration": 0.11693,
     "end_time": "2022-05-02T21:53:14.820425",
     "exception": false,
     "start_time": "2022-05-02T21:53:14.703495",
     "status": "completed"
    },
    "tags": []
   },
   "outputs": [],
   "source": [
    "#Имена также приводим к индексированию "
   ]
  },
  {
   "cell_type": "code",
   "execution_count": 38,
   "id": "1d9af302",
   "metadata": {
    "execution": {
     "iopub.execute_input": "2022-05-02T21:53:15.032254Z",
     "iopub.status.busy": "2022-05-02T21:53:15.031982Z",
     "iopub.status.idle": "2022-05-02T21:53:15.057335Z",
     "shell.execute_reply": "2022-05-02T21:53:15.056371Z"
    },
    "papermill": {
     "duration": 0.134719,
     "end_time": "2022-05-02T21:53:15.059827",
     "exception": false,
     "start_time": "2022-05-02T21:53:14.925108",
     "status": "completed"
    },
    "tags": []
   },
   "outputs": [],
   "source": [
    "data = [train_df, test_df]\n",
    "titles = {\"Mr\": 1, \"Miss\": 2, \"Mrs\": 3, \"Master\": 4, \"Rare\": 5}\n",
    "\n",
    "for dataset in data:\n",
    "    # Выдавим названия\n",
    "    dataset['Title'] = dataset.Name.str.extract(' ([A-Za-z]+)\\.', expand=False)\n",
    "    # Замена названий на более распр. или редкость\n",
    "    dataset['Title'] = dataset['Title'].replace(['Lady', 'Countess','Capt', 'Col','Don', 'Dr',\\\n",
    "                                            'Major', 'Rev', 'Sir', 'Jonkheer', 'Dona'], 'Rare')\n",
    "    dataset['Title'] = dataset['Title'].replace('Mlle', 'Miss')\n",
    "    dataset['Title'] = dataset['Title'].replace('Ms', 'Miss')\n",
    "    dataset['Title'] = dataset['Title'].replace('Mme', 'Mrs')\n",
    "    # преобразовать названия в числа\n",
    "    dataset['Title'] = dataset['Title'].map(titles)\n",
    "    # Заполнение Nan в 0\n",
    "    dataset['Title'] = dataset['Title'].fillna(0)\n",
    "train_df = train_df.drop(['Name'], axis=1)\n",
    "test_df = test_df.drop(['Name'], axis=1)"
   ]
  },
  {
   "cell_type": "code",
   "execution_count": 39,
   "id": "176b4147",
   "metadata": {
    "execution": {
     "iopub.execute_input": "2022-05-02T21:53:15.275078Z",
     "iopub.status.busy": "2022-05-02T21:53:15.274738Z",
     "iopub.status.idle": "2022-05-02T21:53:15.278768Z",
     "shell.execute_reply": "2022-05-02T21:53:15.277836Z"
    },
    "papermill": {
     "duration": 0.11652,
     "end_time": "2022-05-02T21:53:15.281107",
     "exception": false,
     "start_time": "2022-05-02T21:53:15.164587",
     "status": "completed"
    },
    "tags": []
   },
   "outputs": [],
   "source": [
    "#Пол также приводим к индексированию "
   ]
  },
  {
   "cell_type": "code",
   "execution_count": 40,
   "id": "5e0d63a2",
   "metadata": {
    "execution": {
     "iopub.execute_input": "2022-05-02T21:53:15.514021Z",
     "iopub.status.busy": "2022-05-02T21:53:15.513652Z",
     "iopub.status.idle": "2022-05-02T21:53:15.521791Z",
     "shell.execute_reply": "2022-05-02T21:53:15.520866Z"
    },
    "papermill": {
     "duration": 0.118977,
     "end_time": "2022-05-02T21:53:15.524108",
     "exception": false,
     "start_time": "2022-05-02T21:53:15.405131",
     "status": "completed"
    },
    "tags": []
   },
   "outputs": [],
   "source": [
    "genders = {\"male\": 0, \"female\": 1}\n",
    "data = [train_df, test_df]\n",
    "\n",
    "for dataset in data:\n",
    "    dataset['Sex'] = dataset['Sex'].map(genders)"
   ]
  },
  {
   "cell_type": "code",
   "execution_count": 41,
   "id": "6b3f57c5",
   "metadata": {
    "execution": {
     "iopub.execute_input": "2022-05-02T21:53:15.737742Z",
     "iopub.status.busy": "2022-05-02T21:53:15.737426Z",
     "iopub.status.idle": "2022-05-02T21:53:15.741403Z",
     "shell.execute_reply": "2022-05-02T21:53:15.740420Z"
    },
    "papermill": {
     "duration": 0.114658,
     "end_time": "2022-05-02T21:53:15.743584",
     "exception": false,
     "start_time": "2022-05-02T21:53:15.628926",
     "status": "completed"
    },
    "tags": []
   },
   "outputs": [],
   "source": [
    "#Билеты - избавимся"
   ]
  },
  {
   "cell_type": "code",
   "execution_count": 42,
   "id": "2ffb1dd6",
   "metadata": {
    "execution": {
     "iopub.execute_input": "2022-05-02T21:53:15.957429Z",
     "iopub.status.busy": "2022-05-02T21:53:15.957141Z",
     "iopub.status.idle": "2022-05-02T21:53:15.965836Z",
     "shell.execute_reply": "2022-05-02T21:53:15.965046Z"
    },
    "papermill": {
     "duration": 0.116407,
     "end_time": "2022-05-02T21:53:15.967589",
     "exception": false,
     "start_time": "2022-05-02T21:53:15.851182",
     "status": "completed"
    },
    "tags": []
   },
   "outputs": [
    {
     "data": {
      "text/plain": [
       "count        891\n",
       "unique       681\n",
       "top       347082\n",
       "freq           7\n",
       "Name: Ticket, dtype: object"
      ]
     },
     "execution_count": 42,
     "metadata": {},
     "output_type": "execute_result"
    }
   ],
   "source": [
    "train_df['Ticket'].describe()"
   ]
  },
  {
   "cell_type": "code",
   "execution_count": 43,
   "id": "5d8afb64",
   "metadata": {
    "execution": {
     "iopub.execute_input": "2022-05-02T21:53:16.186827Z",
     "iopub.status.busy": "2022-05-02T21:53:16.186216Z",
     "iopub.status.idle": "2022-05-02T21:53:16.193151Z",
     "shell.execute_reply": "2022-05-02T21:53:16.192145Z"
    },
    "papermill": {
     "duration": 0.120936,
     "end_time": "2022-05-02T21:53:16.195525",
     "exception": false,
     "start_time": "2022-05-02T21:53:16.074589",
     "status": "completed"
    },
    "tags": []
   },
   "outputs": [],
   "source": [
    "train_df = train_df.drop(['Ticket'], axis=1)\n",
    "test_df = test_df.drop(['Ticket'], axis=1)"
   ]
  },
  {
   "cell_type": "code",
   "execution_count": 44,
   "id": "a81d5802",
   "metadata": {
    "execution": {
     "iopub.execute_input": "2022-05-02T21:53:16.414990Z",
     "iopub.status.busy": "2022-05-02T21:53:16.414333Z",
     "iopub.status.idle": "2022-05-02T21:53:16.417871Z",
     "shell.execute_reply": "2022-05-02T21:53:16.417173Z"
    },
    "papermill": {
     "duration": 0.113927,
     "end_time": "2022-05-02T21:53:16.420108",
     "exception": false,
     "start_time": "2022-05-02T21:53:16.306181",
     "status": "completed"
    },
    "tags": []
   },
   "outputs": [],
   "source": [
    "#Порты"
   ]
  },
  {
   "cell_type": "code",
   "execution_count": 45,
   "id": "f344b76b",
   "metadata": {
    "execution": {
     "iopub.execute_input": "2022-05-02T21:53:16.649772Z",
     "iopub.status.busy": "2022-05-02T21:53:16.648825Z",
     "iopub.status.idle": "2022-05-02T21:53:16.659171Z",
     "shell.execute_reply": "2022-05-02T21:53:16.657879Z"
    },
    "papermill": {
     "duration": 0.12869,
     "end_time": "2022-05-02T21:53:16.662088",
     "exception": false,
     "start_time": "2022-05-02T21:53:16.533398",
     "status": "completed"
    },
    "tags": []
   },
   "outputs": [],
   "source": [
    "ports = {\"S\": 0, \"C\": 1, \"Q\": 2}\n",
    "data = [train_df, test_df]\n",
    "\n",
    "for dataset in data:\n",
    "    dataset['Embarked'] = dataset['Embarked'].map(ports)"
   ]
  },
  {
   "cell_type": "code",
   "execution_count": 46,
   "id": "37dee897",
   "metadata": {
    "execution": {
     "iopub.execute_input": "2022-05-02T21:53:16.883831Z",
     "iopub.status.busy": "2022-05-02T21:53:16.883353Z",
     "iopub.status.idle": "2022-05-02T21:53:16.887666Z",
     "shell.execute_reply": "2022-05-02T21:53:16.886669Z"
    },
    "papermill": {
     "duration": 0.118269,
     "end_time": "2022-05-02T21:53:16.890103",
     "exception": false,
     "start_time": "2022-05-02T21:53:16.771834",
     "status": "completed"
    },
    "tags": []
   },
   "outputs": [],
   "source": [
    "#СОЗДАНИЕ КЛАСТЕРОВ И КАТЕГОРИЙ"
   ]
  },
  {
   "cell_type": "code",
   "execution_count": 47,
   "id": "c9a131b2",
   "metadata": {
    "execution": {
     "iopub.execute_input": "2022-05-02T21:53:17.112138Z",
     "iopub.status.busy": "2022-05-02T21:53:17.111577Z",
     "iopub.status.idle": "2022-05-02T21:53:17.134024Z",
     "shell.execute_reply": "2022-05-02T21:53:17.133043Z"
    },
    "papermill": {
     "duration": 0.136639,
     "end_time": "2022-05-02T21:53:17.136552",
     "exception": false,
     "start_time": "2022-05-02T21:53:16.999913",
     "status": "completed"
    },
    "tags": []
   },
   "outputs": [],
   "source": [
    "data = [train_df, test_df]\n",
    "for dataset in data:\n",
    "    dataset['Age'] = dataset['Age'].astype(int)\n",
    "    dataset.loc[ dataset['Age'] <= 11, 'Age'] = 0\n",
    "    dataset.loc[(dataset['Age'] > 11) & (dataset['Age'] <= 18), 'Age'] = 1\n",
    "    dataset.loc[(dataset['Age'] > 18) & (dataset['Age'] <= 22), 'Age'] = 2\n",
    "    dataset.loc[(dataset['Age'] > 22) & (dataset['Age'] <= 27), 'Age'] = 3\n",
    "    dataset.loc[(dataset['Age'] > 27) & (dataset['Age'] <= 33), 'Age'] = 4\n",
    "    dataset.loc[(dataset['Age'] > 33) & (dataset['Age'] <= 40), 'Age'] = 5\n",
    "    dataset.loc[(dataset['Age'] > 40) & (dataset['Age'] <= 66), 'Age'] = 6\n",
    "    dataset.loc[ dataset['Age'] > 66, 'Age'] = 6\n",
    "\n"
   ]
  },
  {
   "cell_type": "code",
   "execution_count": 48,
   "id": "d0c9e30f",
   "metadata": {
    "execution": {
     "iopub.execute_input": "2022-05-02T21:53:17.353592Z",
     "iopub.status.busy": "2022-05-02T21:53:17.353305Z",
     "iopub.status.idle": "2022-05-02T21:53:17.360226Z",
     "shell.execute_reply": "2022-05-02T21:53:17.359511Z"
    },
    "papermill": {
     "duration": 0.117446,
     "end_time": "2022-05-02T21:53:17.362234",
     "exception": false,
     "start_time": "2022-05-02T21:53:17.244788",
     "status": "completed"
    },
    "tags": []
   },
   "outputs": [
    {
     "data": {
      "text/plain": [
       "4    165\n",
       "6    154\n",
       "5    144\n",
       "3    139\n",
       "2    121\n",
       "1    100\n",
       "0     68\n",
       "Name: Age, dtype: int64"
      ]
     },
     "execution_count": 48,
     "metadata": {},
     "output_type": "execute_result"
    }
   ],
   "source": [
    "train_df.Age.value_counts()\n",
    "\n",
    "#результат распределения на группы"
   ]
  },
  {
   "cell_type": "code",
   "execution_count": 49,
   "id": "7bf3ee44",
   "metadata": {
    "execution": {
     "iopub.execute_input": "2022-05-02T21:53:17.572012Z",
     "iopub.status.busy": "2022-05-02T21:53:17.571549Z",
     "iopub.status.idle": "2022-05-02T21:53:17.587162Z",
     "shell.execute_reply": "2022-05-02T21:53:17.586276Z"
    },
    "papermill": {
     "duration": 0.122969,
     "end_time": "2022-05-02T21:53:17.589576",
     "exception": false,
     "start_time": "2022-05-02T21:53:17.466607",
     "status": "completed"
    },
    "tags": []
   },
   "outputs": [
    {
     "data": {
      "text/html": [
       "<div>\n",
       "<style scoped>\n",
       "    .dataframe tbody tr th:only-of-type {\n",
       "        vertical-align: middle;\n",
       "    }\n",
       "\n",
       "    .dataframe tbody tr th {\n",
       "        vertical-align: top;\n",
       "    }\n",
       "\n",
       "    .dataframe thead th {\n",
       "        text-align: right;\n",
       "    }\n",
       "</style>\n",
       "<table border=\"1\" class=\"dataframe\">\n",
       "  <thead>\n",
       "    <tr style=\"text-align: right;\">\n",
       "      <th></th>\n",
       "      <th>Survived</th>\n",
       "      <th>Pclass</th>\n",
       "      <th>Sex</th>\n",
       "      <th>Age</th>\n",
       "      <th>SibSp</th>\n",
       "      <th>Parch</th>\n",
       "      <th>Fare</th>\n",
       "      <th>Embarked</th>\n",
       "      <th>relatives</th>\n",
       "      <th>not_alone</th>\n",
       "      <th>Deck</th>\n",
       "      <th>Title</th>\n",
       "    </tr>\n",
       "  </thead>\n",
       "  <tbody>\n",
       "    <tr>\n",
       "      <th>0</th>\n",
       "      <td>0</td>\n",
       "      <td>3</td>\n",
       "      <td>0</td>\n",
       "      <td>2</td>\n",
       "      <td>1</td>\n",
       "      <td>0</td>\n",
       "      <td>7</td>\n",
       "      <td>0</td>\n",
       "      <td>1</td>\n",
       "      <td>0</td>\n",
       "      <td>8</td>\n",
       "      <td>1</td>\n",
       "    </tr>\n",
       "    <tr>\n",
       "      <th>1</th>\n",
       "      <td>1</td>\n",
       "      <td>1</td>\n",
       "      <td>1</td>\n",
       "      <td>5</td>\n",
       "      <td>1</td>\n",
       "      <td>0</td>\n",
       "      <td>71</td>\n",
       "      <td>1</td>\n",
       "      <td>1</td>\n",
       "      <td>0</td>\n",
       "      <td>3</td>\n",
       "      <td>3</td>\n",
       "    </tr>\n",
       "    <tr>\n",
       "      <th>2</th>\n",
       "      <td>1</td>\n",
       "      <td>3</td>\n",
       "      <td>1</td>\n",
       "      <td>3</td>\n",
       "      <td>0</td>\n",
       "      <td>0</td>\n",
       "      <td>7</td>\n",
       "      <td>0</td>\n",
       "      <td>0</td>\n",
       "      <td>1</td>\n",
       "      <td>8</td>\n",
       "      <td>2</td>\n",
       "    </tr>\n",
       "    <tr>\n",
       "      <th>3</th>\n",
       "      <td>1</td>\n",
       "      <td>1</td>\n",
       "      <td>1</td>\n",
       "      <td>5</td>\n",
       "      <td>1</td>\n",
       "      <td>0</td>\n",
       "      <td>53</td>\n",
       "      <td>0</td>\n",
       "      <td>1</td>\n",
       "      <td>0</td>\n",
       "      <td>3</td>\n",
       "      <td>3</td>\n",
       "    </tr>\n",
       "    <tr>\n",
       "      <th>4</th>\n",
       "      <td>0</td>\n",
       "      <td>3</td>\n",
       "      <td>0</td>\n",
       "      <td>5</td>\n",
       "      <td>0</td>\n",
       "      <td>0</td>\n",
       "      <td>8</td>\n",
       "      <td>0</td>\n",
       "      <td>0</td>\n",
       "      <td>1</td>\n",
       "      <td>8</td>\n",
       "      <td>1</td>\n",
       "    </tr>\n",
       "    <tr>\n",
       "      <th>5</th>\n",
       "      <td>0</td>\n",
       "      <td>3</td>\n",
       "      <td>0</td>\n",
       "      <td>4</td>\n",
       "      <td>0</td>\n",
       "      <td>0</td>\n",
       "      <td>8</td>\n",
       "      <td>2</td>\n",
       "      <td>0</td>\n",
       "      <td>1</td>\n",
       "      <td>8</td>\n",
       "      <td>1</td>\n",
       "    </tr>\n",
       "    <tr>\n",
       "      <th>6</th>\n",
       "      <td>0</td>\n",
       "      <td>1</td>\n",
       "      <td>0</td>\n",
       "      <td>6</td>\n",
       "      <td>0</td>\n",
       "      <td>0</td>\n",
       "      <td>51</td>\n",
       "      <td>0</td>\n",
       "      <td>0</td>\n",
       "      <td>1</td>\n",
       "      <td>5</td>\n",
       "      <td>1</td>\n",
       "    </tr>\n",
       "    <tr>\n",
       "      <th>7</th>\n",
       "      <td>0</td>\n",
       "      <td>3</td>\n",
       "      <td>0</td>\n",
       "      <td>0</td>\n",
       "      <td>3</td>\n",
       "      <td>1</td>\n",
       "      <td>21</td>\n",
       "      <td>0</td>\n",
       "      <td>4</td>\n",
       "      <td>0</td>\n",
       "      <td>8</td>\n",
       "      <td>4</td>\n",
       "    </tr>\n",
       "    <tr>\n",
       "      <th>8</th>\n",
       "      <td>1</td>\n",
       "      <td>3</td>\n",
       "      <td>1</td>\n",
       "      <td>3</td>\n",
       "      <td>0</td>\n",
       "      <td>2</td>\n",
       "      <td>11</td>\n",
       "      <td>0</td>\n",
       "      <td>2</td>\n",
       "      <td>0</td>\n",
       "      <td>8</td>\n",
       "      <td>3</td>\n",
       "    </tr>\n",
       "    <tr>\n",
       "      <th>9</th>\n",
       "      <td>1</td>\n",
       "      <td>2</td>\n",
       "      <td>1</td>\n",
       "      <td>1</td>\n",
       "      <td>1</td>\n",
       "      <td>0</td>\n",
       "      <td>30</td>\n",
       "      <td>1</td>\n",
       "      <td>1</td>\n",
       "      <td>0</td>\n",
       "      <td>8</td>\n",
       "      <td>3</td>\n",
       "    </tr>\n",
       "  </tbody>\n",
       "</table>\n",
       "</div>"
      ],
      "text/plain": [
       "   Survived  Pclass  Sex  Age  SibSp  Parch  Fare  Embarked  relatives  \\\n",
       "0         0       3    0    2      1      0     7         0          1   \n",
       "1         1       1    1    5      1      0    71         1          1   \n",
       "2         1       3    1    3      0      0     7         0          0   \n",
       "3         1       1    1    5      1      0    53         0          1   \n",
       "4         0       3    0    5      0      0     8         0          0   \n",
       "5         0       3    0    4      0      0     8         2          0   \n",
       "6         0       1    0    6      0      0    51         0          0   \n",
       "7         0       3    0    0      3      1    21         0          4   \n",
       "8         1       3    1    3      0      2    11         0          2   \n",
       "9         1       2    1    1      1      0    30         1          1   \n",
       "\n",
       "   not_alone  Deck  Title  \n",
       "0          0     8      1  \n",
       "1          0     3      3  \n",
       "2          1     8      2  \n",
       "3          0     3      3  \n",
       "4          1     8      1  \n",
       "5          1     8      1  \n",
       "6          1     5      1  \n",
       "7          0     8      4  \n",
       "8          0     8      3  \n",
       "9          0     8      3  "
      ]
     },
     "execution_count": 49,
     "metadata": {},
     "output_type": "execute_result"
    }
   ],
   "source": [
    "train_df.head(10)"
   ]
  },
  {
   "cell_type": "code",
   "execution_count": 50,
   "id": "05f1d378",
   "metadata": {
    "execution": {
     "iopub.execute_input": "2022-05-02T21:53:17.803675Z",
     "iopub.status.busy": "2022-05-02T21:53:17.803025Z",
     "iopub.status.idle": "2022-05-02T21:53:17.821407Z",
     "shell.execute_reply": "2022-05-02T21:53:17.820289Z"
    },
    "papermill": {
     "duration": 0.129176,
     "end_time": "2022-05-02T21:53:17.823865",
     "exception": false,
     "start_time": "2022-05-02T21:53:17.694689",
     "status": "completed"
    },
    "tags": []
   },
   "outputs": [],
   "source": [
    "data = [train_df, test_df]\n",
    "\n",
    "for dataset in data:\n",
    "    dataset.loc[ dataset['Fare'] <= 7.91, 'Fare'] = 0\n",
    "    dataset.loc[(dataset['Fare'] > 7.91) & (dataset['Fare'] <= 14.454), 'Fare'] = 1\n",
    "    dataset.loc[(dataset['Fare'] > 14.454) & (dataset['Fare'] <= 31), 'Fare']   = 2\n",
    "    dataset.loc[(dataset['Fare'] > 31) & (dataset['Fare'] <= 99), 'Fare']   = 3\n",
    "    dataset.loc[(dataset['Fare'] > 99) & (dataset['Fare'] <= 250), 'Fare']   = 4\n",
    "    dataset.loc[ dataset['Fare'] > 250, 'Fare'] = 5\n",
    "    dataset['Fare'] = dataset['Fare'].astype(int)"
   ]
  },
  {
   "cell_type": "code",
   "execution_count": 51,
   "id": "029a8247",
   "metadata": {
    "execution": {
     "iopub.execute_input": "2022-05-02T21:53:18.040495Z",
     "iopub.status.busy": "2022-05-02T21:53:18.040202Z",
     "iopub.status.idle": "2022-05-02T21:53:18.048008Z",
     "shell.execute_reply": "2022-05-02T21:53:18.047207Z"
    },
    "papermill": {
     "duration": 0.11876,
     "end_time": "2022-05-02T21:53:18.049897",
     "exception": false,
     "start_time": "2022-05-02T21:53:17.931137",
     "status": "completed"
    },
    "tags": []
   },
   "outputs": [
    {
     "data": {
      "text/plain": [
       "0    241\n",
       "2    223\n",
       "1    216\n",
       "3    158\n",
       "4     44\n",
       "5      9\n",
       "Name: Fare, dtype: int64"
      ]
     },
     "execution_count": 51,
     "metadata": {},
     "output_type": "execute_result"
    }
   ],
   "source": [
    "train_df.Fare.value_counts()"
   ]
  },
  {
   "cell_type": "code",
   "execution_count": 52,
   "id": "ce703e87",
   "metadata": {
    "execution": {
     "iopub.execute_input": "2022-05-02T21:53:18.265765Z",
     "iopub.status.busy": "2022-05-02T21:53:18.264861Z",
     "iopub.status.idle": "2022-05-02T21:53:18.268773Z",
     "shell.execute_reply": "2022-05-02T21:53:18.268145Z"
    },
    "papermill": {
     "duration": 0.11513,
     "end_time": "2022-05-02T21:53:18.270850",
     "exception": false,
     "start_time": "2022-05-02T21:53:18.155720",
     "status": "completed"
    },
    "tags": []
   },
   "outputs": [],
   "source": [
    "#СОЗДАНИЕ НОВЫХ ФУНКЦИЙ"
   ]
  },
  {
   "cell_type": "code",
   "execution_count": 53,
   "id": "f8de62cc",
   "metadata": {
    "execution": {
     "iopub.execute_input": "2022-05-02T21:53:18.488259Z",
     "iopub.status.busy": "2022-05-02T21:53:18.487220Z",
     "iopub.status.idle": "2022-05-02T21:53:18.495242Z",
     "shell.execute_reply": "2022-05-02T21:53:18.494297Z"
    },
    "papermill": {
     "duration": 0.119423,
     "end_time": "2022-05-02T21:53:18.497292",
     "exception": false,
     "start_time": "2022-05-02T21:53:18.377869",
     "status": "completed"
    },
    "tags": []
   },
   "outputs": [],
   "source": [
    "data = [train_df, test_df]\n",
    "for dataset in data:\n",
    "    dataset['Age_Class']= dataset['Age']* dataset['Pclass']"
   ]
  },
  {
   "cell_type": "code",
   "execution_count": 54,
   "id": "820ebc89",
   "metadata": {
    "execution": {
     "iopub.execute_input": "2022-05-02T21:53:18.711273Z",
     "iopub.status.busy": "2022-05-02T21:53:18.710264Z",
     "iopub.status.idle": "2022-05-02T21:53:18.729559Z",
     "shell.execute_reply": "2022-05-02T21:53:18.728874Z"
    },
    "papermill": {
     "duration": 0.13012,
     "end_time": "2022-05-02T21:53:18.731520",
     "exception": false,
     "start_time": "2022-05-02T21:53:18.601400",
     "status": "completed"
    },
    "tags": []
   },
   "outputs": [
    {
     "data": {
      "text/html": [
       "<div>\n",
       "<style scoped>\n",
       "    .dataframe tbody tr th:only-of-type {\n",
       "        vertical-align: middle;\n",
       "    }\n",
       "\n",
       "    .dataframe tbody tr th {\n",
       "        vertical-align: top;\n",
       "    }\n",
       "\n",
       "    .dataframe thead th {\n",
       "        text-align: right;\n",
       "    }\n",
       "</style>\n",
       "<table border=\"1\" class=\"dataframe\">\n",
       "  <thead>\n",
       "    <tr style=\"text-align: right;\">\n",
       "      <th></th>\n",
       "      <th>Survived</th>\n",
       "      <th>Pclass</th>\n",
       "      <th>Sex</th>\n",
       "      <th>Age</th>\n",
       "      <th>SibSp</th>\n",
       "      <th>Parch</th>\n",
       "      <th>Fare</th>\n",
       "      <th>Embarked</th>\n",
       "      <th>relatives</th>\n",
       "      <th>not_alone</th>\n",
       "      <th>Deck</th>\n",
       "      <th>Title</th>\n",
       "      <th>Age_Class</th>\n",
       "      <th>Fare_Per_Person</th>\n",
       "    </tr>\n",
       "  </thead>\n",
       "  <tbody>\n",
       "    <tr>\n",
       "      <th>0</th>\n",
       "      <td>0</td>\n",
       "      <td>3</td>\n",
       "      <td>0</td>\n",
       "      <td>2</td>\n",
       "      <td>1</td>\n",
       "      <td>0</td>\n",
       "      <td>0</td>\n",
       "      <td>0</td>\n",
       "      <td>1</td>\n",
       "      <td>0</td>\n",
       "      <td>8</td>\n",
       "      <td>1</td>\n",
       "      <td>6</td>\n",
       "      <td>0</td>\n",
       "    </tr>\n",
       "    <tr>\n",
       "      <th>1</th>\n",
       "      <td>1</td>\n",
       "      <td>1</td>\n",
       "      <td>1</td>\n",
       "      <td>5</td>\n",
       "      <td>1</td>\n",
       "      <td>0</td>\n",
       "      <td>3</td>\n",
       "      <td>1</td>\n",
       "      <td>1</td>\n",
       "      <td>0</td>\n",
       "      <td>3</td>\n",
       "      <td>3</td>\n",
       "      <td>5</td>\n",
       "      <td>1</td>\n",
       "    </tr>\n",
       "    <tr>\n",
       "      <th>2</th>\n",
       "      <td>1</td>\n",
       "      <td>3</td>\n",
       "      <td>1</td>\n",
       "      <td>3</td>\n",
       "      <td>0</td>\n",
       "      <td>0</td>\n",
       "      <td>0</td>\n",
       "      <td>0</td>\n",
       "      <td>0</td>\n",
       "      <td>1</td>\n",
       "      <td>8</td>\n",
       "      <td>2</td>\n",
       "      <td>9</td>\n",
       "      <td>0</td>\n",
       "    </tr>\n",
       "    <tr>\n",
       "      <th>3</th>\n",
       "      <td>1</td>\n",
       "      <td>1</td>\n",
       "      <td>1</td>\n",
       "      <td>5</td>\n",
       "      <td>1</td>\n",
       "      <td>0</td>\n",
       "      <td>3</td>\n",
       "      <td>0</td>\n",
       "      <td>1</td>\n",
       "      <td>0</td>\n",
       "      <td>3</td>\n",
       "      <td>3</td>\n",
       "      <td>5</td>\n",
       "      <td>1</td>\n",
       "    </tr>\n",
       "    <tr>\n",
       "      <th>4</th>\n",
       "      <td>0</td>\n",
       "      <td>3</td>\n",
       "      <td>0</td>\n",
       "      <td>5</td>\n",
       "      <td>0</td>\n",
       "      <td>0</td>\n",
       "      <td>1</td>\n",
       "      <td>0</td>\n",
       "      <td>0</td>\n",
       "      <td>1</td>\n",
       "      <td>8</td>\n",
       "      <td>1</td>\n",
       "      <td>15</td>\n",
       "      <td>1</td>\n",
       "    </tr>\n",
       "    <tr>\n",
       "      <th>5</th>\n",
       "      <td>0</td>\n",
       "      <td>3</td>\n",
       "      <td>0</td>\n",
       "      <td>4</td>\n",
       "      <td>0</td>\n",
       "      <td>0</td>\n",
       "      <td>1</td>\n",
       "      <td>2</td>\n",
       "      <td>0</td>\n",
       "      <td>1</td>\n",
       "      <td>8</td>\n",
       "      <td>1</td>\n",
       "      <td>12</td>\n",
       "      <td>1</td>\n",
       "    </tr>\n",
       "    <tr>\n",
       "      <th>6</th>\n",
       "      <td>0</td>\n",
       "      <td>1</td>\n",
       "      <td>0</td>\n",
       "      <td>6</td>\n",
       "      <td>0</td>\n",
       "      <td>0</td>\n",
       "      <td>3</td>\n",
       "      <td>0</td>\n",
       "      <td>0</td>\n",
       "      <td>1</td>\n",
       "      <td>5</td>\n",
       "      <td>1</td>\n",
       "      <td>6</td>\n",
       "      <td>3</td>\n",
       "    </tr>\n",
       "    <tr>\n",
       "      <th>7</th>\n",
       "      <td>0</td>\n",
       "      <td>3</td>\n",
       "      <td>0</td>\n",
       "      <td>0</td>\n",
       "      <td>3</td>\n",
       "      <td>1</td>\n",
       "      <td>2</td>\n",
       "      <td>0</td>\n",
       "      <td>4</td>\n",
       "      <td>0</td>\n",
       "      <td>8</td>\n",
       "      <td>4</td>\n",
       "      <td>0</td>\n",
       "      <td>0</td>\n",
       "    </tr>\n",
       "    <tr>\n",
       "      <th>8</th>\n",
       "      <td>1</td>\n",
       "      <td>3</td>\n",
       "      <td>1</td>\n",
       "      <td>3</td>\n",
       "      <td>0</td>\n",
       "      <td>2</td>\n",
       "      <td>1</td>\n",
       "      <td>0</td>\n",
       "      <td>2</td>\n",
       "      <td>0</td>\n",
       "      <td>8</td>\n",
       "      <td>3</td>\n",
       "      <td>9</td>\n",
       "      <td>0</td>\n",
       "    </tr>\n",
       "    <tr>\n",
       "      <th>9</th>\n",
       "      <td>1</td>\n",
       "      <td>2</td>\n",
       "      <td>1</td>\n",
       "      <td>1</td>\n",
       "      <td>1</td>\n",
       "      <td>0</td>\n",
       "      <td>2</td>\n",
       "      <td>1</td>\n",
       "      <td>1</td>\n",
       "      <td>0</td>\n",
       "      <td>8</td>\n",
       "      <td>3</td>\n",
       "      <td>2</td>\n",
       "      <td>1</td>\n",
       "    </tr>\n",
       "  </tbody>\n",
       "</table>\n",
       "</div>"
      ],
      "text/plain": [
       "   Survived  Pclass  Sex  Age  SibSp  Parch  Fare  Embarked  relatives  \\\n",
       "0         0       3    0    2      1      0     0         0          1   \n",
       "1         1       1    1    5      1      0     3         1          1   \n",
       "2         1       3    1    3      0      0     0         0          0   \n",
       "3         1       1    1    5      1      0     3         0          1   \n",
       "4         0       3    0    5      0      0     1         0          0   \n",
       "5         0       3    0    4      0      0     1         2          0   \n",
       "6         0       1    0    6      0      0     3         0          0   \n",
       "7         0       3    0    0      3      1     2         0          4   \n",
       "8         1       3    1    3      0      2     1         0          2   \n",
       "9         1       2    1    1      1      0     2         1          1   \n",
       "\n",
       "   not_alone  Deck  Title  Age_Class  Fare_Per_Person  \n",
       "0          0     8      1          6                0  \n",
       "1          0     3      3          5                1  \n",
       "2          1     8      2          9                0  \n",
       "3          0     3      3          5                1  \n",
       "4          1     8      1         15                1  \n",
       "5          1     8      1         12                1  \n",
       "6          1     5      1          6                3  \n",
       "7          0     8      4          0                0  \n",
       "8          0     8      3          9                0  \n",
       "9          0     8      3          2                1  "
      ]
     },
     "execution_count": 54,
     "metadata": {},
     "output_type": "execute_result"
    }
   ],
   "source": [
    "for dataset in data:\n",
    "    dataset['Fare_Per_Person'] = dataset['Fare']/(dataset['relatives']+1)\n",
    "    dataset['Fare_Per_Person'] = dataset['Fare_Per_Person'].astype(int)\n",
    "\n",
    "\n",
    "train_df.head(10)"
   ]
  },
  {
   "cell_type": "code",
   "execution_count": 55,
   "id": "25c9660b",
   "metadata": {
    "execution": {
     "iopub.execute_input": "2022-05-02T21:53:18.955201Z",
     "iopub.status.busy": "2022-05-02T21:53:18.954716Z",
     "iopub.status.idle": "2022-05-02T21:53:18.958043Z",
     "shell.execute_reply": "2022-05-02T21:53:18.957275Z"
    },
    "papermill": {
     "duration": 0.11718,
     "end_time": "2022-05-02T21:53:18.960116",
     "exception": false,
     "start_time": "2022-05-02T21:53:18.842936",
     "status": "completed"
    },
    "tags": []
   },
   "outputs": [],
   "source": [
    "#Построение моделей машинного обучения"
   ]
  },
  {
   "cell_type": "code",
   "execution_count": 56,
   "id": "c875df25",
   "metadata": {
    "execution": {
     "iopub.execute_input": "2022-05-02T21:53:19.179776Z",
     "iopub.status.busy": "2022-05-02T21:53:19.179479Z",
     "iopub.status.idle": "2022-05-02T21:53:19.187696Z",
     "shell.execute_reply": "2022-05-02T21:53:19.186712Z"
    },
    "papermill": {
     "duration": 0.118402,
     "end_time": "2022-05-02T21:53:19.190090",
     "exception": false,
     "start_time": "2022-05-02T21:53:19.071688",
     "status": "completed"
    },
    "tags": []
   },
   "outputs": [],
   "source": [
    "X_train = train_df.drop(\"Survived\", axis=1)\n",
    "Y_train = train_df[\"Survived\"]\n",
    "X_test  = test_df.drop(\"PassengerId\", axis=1).copy()"
   ]
  },
  {
   "cell_type": "code",
   "execution_count": 57,
   "id": "53bb3e32",
   "metadata": {
    "execution": {
     "iopub.execute_input": "2022-05-02T21:53:19.412922Z",
     "iopub.status.busy": "2022-05-02T21:53:19.412242Z",
     "iopub.status.idle": "2022-05-02T21:53:19.416472Z",
     "shell.execute_reply": "2022-05-02T21:53:19.415781Z"
    },
    "papermill": {
     "duration": 0.116609,
     "end_time": "2022-05-02T21:53:19.418776",
     "exception": false,
     "start_time": "2022-05-02T21:53:19.302167",
     "status": "completed"
    },
    "tags": []
   },
   "outputs": [],
   "source": [
    "#Stochastic Gradient Descent (SGD)"
   ]
  },
  {
   "cell_type": "code",
   "execution_count": 58,
   "id": "cd724931",
   "metadata": {
    "execution": {
     "iopub.execute_input": "2022-05-02T21:53:19.632375Z",
     "iopub.status.busy": "2022-05-02T21:53:19.631755Z",
     "iopub.status.idle": "2022-05-02T21:53:19.655987Z",
     "shell.execute_reply": "2022-05-02T21:53:19.654887Z"
    },
    "papermill": {
     "duration": 0.13369,
     "end_time": "2022-05-02T21:53:19.659380",
     "exception": false,
     "start_time": "2022-05-02T21:53:19.525690",
     "status": "completed"
    },
    "tags": []
   },
   "outputs": [],
   "source": [
    "sgd = linear_model.SGDClassifier(max_iter=5, tol=None)\n",
    "sgd.fit(X_train, Y_train)\n",
    "Y_pred = sgd.predict(X_test)\n",
    "\n",
    "sgd.score(X_train, Y_train)\n",
    "\n",
    "acc_sgd = round(sgd.score(X_train, Y_train) * 100, 2)"
   ]
  },
  {
   "cell_type": "code",
   "execution_count": 59,
   "id": "b842ba5f",
   "metadata": {
    "execution": {
     "iopub.execute_input": "2022-05-02T21:53:19.931700Z",
     "iopub.status.busy": "2022-05-02T21:53:19.931399Z",
     "iopub.status.idle": "2022-05-02T21:53:19.935189Z",
     "shell.execute_reply": "2022-05-02T21:53:19.934256Z"
    },
    "papermill": {
     "duration": 0.115201,
     "end_time": "2022-05-02T21:53:19.937399",
     "exception": false,
     "start_time": "2022-05-02T21:53:19.822198",
     "status": "completed"
    },
    "tags": []
   },
   "outputs": [],
   "source": [
    "#Random Forest"
   ]
  },
  {
   "cell_type": "code",
   "execution_count": 60,
   "id": "1eefb759",
   "metadata": {
    "execution": {
     "iopub.execute_input": "2022-05-02T21:53:20.177884Z",
     "iopub.status.busy": "2022-05-02T21:53:20.177569Z",
     "iopub.status.idle": "2022-05-02T21:53:20.504345Z",
     "shell.execute_reply": "2022-05-02T21:53:20.503300Z"
    },
    "papermill": {
     "duration": 0.446182,
     "end_time": "2022-05-02T21:53:20.507000",
     "exception": false,
     "start_time": "2022-05-02T21:53:20.060818",
     "status": "completed"
    },
    "tags": []
   },
   "outputs": [],
   "source": [
    "random_forest = RandomForestClassifier(n_estimators=100)\n",
    "random_forest.fit(X_train, Y_train)\n",
    "\n",
    "Y_prediction = random_forest.predict(X_test)\n",
    "\n",
    "random_forest.score(X_train, Y_train)\n",
    "acc_random_forest = round(random_forest.score(X_train, Y_train) * 100, 2)"
   ]
  },
  {
   "cell_type": "code",
   "execution_count": 61,
   "id": "87491159",
   "metadata": {
    "execution": {
     "iopub.execute_input": "2022-05-02T21:53:20.728777Z",
     "iopub.status.busy": "2022-05-02T21:53:20.728453Z",
     "iopub.status.idle": "2022-05-02T21:53:20.737024Z",
     "shell.execute_reply": "2022-05-02T21:53:20.736068Z"
    },
    "papermill": {
     "duration": 0.122536,
     "end_time": "2022-05-02T21:53:20.739543",
     "exception": false,
     "start_time": "2022-05-02T21:53:20.617007",
     "status": "completed"
    },
    "tags": []
   },
   "outputs": [
    {
     "data": {
      "text/plain": [
       "array([0, 0, 1, 0, 0, 0, 1, 0, 1, 0, 0, 0, 1, 0, 1, 1, 0, 0, 0, 1, 0, 0,\n",
       "       1, 0, 1, 0, 1, 0, 0, 0, 0, 0, 1, 0, 0, 0, 0, 0, 0, 1, 0, 0, 0, 1,\n",
       "       1, 0, 1, 0, 1, 0, 0, 0, 1, 1, 0, 0, 0, 0, 0, 1, 0, 0, 0, 1, 1, 1,\n",
       "       1, 0, 1, 1, 1, 0, 1, 1, 1, 0, 0, 1, 0, 1, 1, 0, 1, 0, 0, 0, 1, 0,\n",
       "       1, 0, 0, 0, 1, 0, 0, 0, 1, 0, 0, 0, 1, 0, 0, 0, 0, 0, 0, 0, 0, 0,\n",
       "       0, 1, 1, 1, 1, 0, 0, 0, 1, 1, 1, 0, 1, 0, 0, 1, 0, 1, 0, 0, 0, 1,\n",
       "       0, 0, 0, 0, 0, 0, 1, 0, 0, 1, 1, 0, 0, 0, 1, 0, 1, 0, 1, 0, 0, 0,\n",
       "       0, 0, 1, 0, 0, 1, 1, 1, 0, 0, 0, 1, 0, 0, 1, 0, 0, 0, 0, 0, 0, 1,\n",
       "       1, 1, 1, 1, 0, 0, 1, 0, 1, 0, 1, 0, 0, 0, 0, 0, 1, 0, 1, 0, 1, 0,\n",
       "       0, 1, 1, 0, 1, 1, 0, 0, 1, 0, 1, 0, 0, 0, 0, 1, 1, 0, 1, 0, 1, 0,\n",
       "       1, 0, 1, 0, 1, 1, 0, 1, 0, 0, 0, 1, 0, 0, 1, 0, 1, 0, 1, 1, 1, 1,\n",
       "       0, 0, 0, 1, 1, 0, 1, 0, 1, 0, 0, 0, 0, 0, 0, 0, 1, 0, 0, 0, 1, 0,\n",
       "       0, 0, 0, 0, 0, 0, 0, 0, 1, 1, 0, 1, 0, 0, 0, 0, 0, 0, 1, 1, 1, 0,\n",
       "       0, 0, 0, 0, 0, 1, 0, 1, 0, 0, 1, 0, 0, 0, 0, 0, 0, 0, 1, 1, 0, 1,\n",
       "       1, 0, 0, 0, 0, 1, 1, 1, 0, 0, 0, 0, 0, 0, 0, 0, 1, 0, 1, 0, 0, 0,\n",
       "       1, 0, 0, 0, 0, 0, 0, 0, 0, 0, 0, 0, 0, 1, 0, 1, 0, 1, 0, 1, 1, 0,\n",
       "       0, 0, 0, 1, 1, 0, 0, 0, 0, 1, 1, 0, 1, 0, 0, 1, 1, 1, 0, 1, 0, 0,\n",
       "       1, 1, 0, 0, 0, 0, 0, 0, 1, 1, 0, 1, 0, 0, 0, 0, 0, 1, 1, 0, 0, 1,\n",
       "       0, 1, 0, 0, 1, 0, 1, 0, 0, 0, 0, 1, 1, 1, 1, 1, 0, 0, 1, 0, 0, 1])"
      ]
     },
     "execution_count": 61,
     "metadata": {},
     "output_type": "execute_result"
    }
   ],
   "source": [
    "Y_prediction"
   ]
  },
  {
   "cell_type": "code",
   "execution_count": 62,
   "id": "33e9b08e",
   "metadata": {
    "execution": {
     "iopub.execute_input": "2022-05-02T21:53:20.959581Z",
     "iopub.status.busy": "2022-05-02T21:53:20.958734Z",
     "iopub.status.idle": "2022-05-02T21:53:20.962869Z",
     "shell.execute_reply": "2022-05-02T21:53:20.962192Z"
    },
    "papermill": {
     "duration": 0.116942,
     "end_time": "2022-05-02T21:53:20.964986",
     "exception": false,
     "start_time": "2022-05-02T21:53:20.848044",
     "status": "completed"
    },
    "tags": []
   },
   "outputs": [],
   "source": [
    "#Logistic Regression"
   ]
  },
  {
   "cell_type": "code",
   "execution_count": 63,
   "id": "f9d09b5e",
   "metadata": {
    "execution": {
     "iopub.execute_input": "2022-05-02T21:53:21.197828Z",
     "iopub.status.busy": "2022-05-02T21:53:21.197051Z",
     "iopub.status.idle": "2022-05-02T21:53:21.294880Z",
     "shell.execute_reply": "2022-05-02T21:53:21.293346Z"
    },
    "papermill": {
     "duration": 0.226707,
     "end_time": "2022-05-02T21:53:21.301726",
     "exception": false,
     "start_time": "2022-05-02T21:53:21.075019",
     "status": "completed"
    },
    "tags": []
   },
   "outputs": [
    {
     "name": "stderr",
     "output_type": "stream",
     "text": [
      "/opt/conda/lib/python3.7/site-packages/sklearn/linear_model/_logistic.py:818: ConvergenceWarning: lbfgs failed to converge (status=1):\n",
      "STOP: TOTAL NO. of ITERATIONS REACHED LIMIT.\n",
      "\n",
      "Increase the number of iterations (max_iter) or scale the data as shown in:\n",
      "    https://scikit-learn.org/stable/modules/preprocessing.html\n",
      "Please also refer to the documentation for alternative solver options:\n",
      "    https://scikit-learn.org/stable/modules/linear_model.html#logistic-regression\n",
      "  extra_warning_msg=_LOGISTIC_SOLVER_CONVERGENCE_MSG,\n"
     ]
    }
   ],
   "source": [
    "logreg = LogisticRegression()\n",
    "logreg.fit(X_train, Y_train)\n",
    "\n",
    "Y_pred = logreg.predict(X_test)\n",
    "\n",
    "acc_log = round(logreg.score(X_train, Y_train) * 100, 2)"
   ]
  },
  {
   "cell_type": "code",
   "execution_count": 64,
   "id": "60c2d4f6",
   "metadata": {
    "execution": {
     "iopub.execute_input": "2022-05-02T21:53:21.576464Z",
     "iopub.status.busy": "2022-05-02T21:53:21.576176Z",
     "iopub.status.idle": "2022-05-02T21:53:21.579790Z",
     "shell.execute_reply": "2022-05-02T21:53:21.578908Z"
    },
    "papermill": {
     "duration": 0.117563,
     "end_time": "2022-05-02T21:53:21.582123",
     "exception": false,
     "start_time": "2022-05-02T21:53:21.464560",
     "status": "completed"
    },
    "tags": []
   },
   "outputs": [],
   "source": [
    "#K Nearest Neighbor"
   ]
  },
  {
   "cell_type": "code",
   "execution_count": 65,
   "id": "848d2b67",
   "metadata": {
    "execution": {
     "iopub.execute_input": "2022-05-02T21:53:21.820025Z",
     "iopub.status.busy": "2022-05-02T21:53:21.819703Z",
     "iopub.status.idle": "2022-05-02T21:53:21.884816Z",
     "shell.execute_reply": "2022-05-02T21:53:21.883965Z"
    },
    "papermill": {
     "duration": 0.189235,
     "end_time": "2022-05-02T21:53:21.887213",
     "exception": false,
     "start_time": "2022-05-02T21:53:21.697978",
     "status": "completed"
    },
    "tags": []
   },
   "outputs": [],
   "source": [
    "knn = KNeighborsClassifier(n_neighbors = 3) \n",
    "knn.fit(X_train, Y_train)  \n",
    "Y_pred = knn.predict(X_test)  \n",
    "acc_knn = round(knn.score(X_train, Y_train) * 100, 2)"
   ]
  },
  {
   "cell_type": "code",
   "execution_count": 66,
   "id": "82e3e2e8",
   "metadata": {
    "execution": {
     "iopub.execute_input": "2022-05-02T21:53:22.114909Z",
     "iopub.status.busy": "2022-05-02T21:53:22.114587Z",
     "iopub.status.idle": "2022-05-02T21:53:22.118486Z",
     "shell.execute_reply": "2022-05-02T21:53:22.117315Z"
    },
    "papermill": {
     "duration": 0.116398,
     "end_time": "2022-05-02T21:53:22.120757",
     "exception": false,
     "start_time": "2022-05-02T21:53:22.004359",
     "status": "completed"
    },
    "tags": []
   },
   "outputs": [],
   "source": [
    "#Gaussian Naive Bayes"
   ]
  },
  {
   "cell_type": "code",
   "execution_count": 67,
   "id": "2f500081",
   "metadata": {
    "execution": {
     "iopub.execute_input": "2022-05-02T21:53:22.339650Z",
     "iopub.status.busy": "2022-05-02T21:53:22.339365Z",
     "iopub.status.idle": "2022-05-02T21:53:22.353137Z",
     "shell.execute_reply": "2022-05-02T21:53:22.352075Z"
    },
    "papermill": {
     "duration": 0.126161,
     "end_time": "2022-05-02T21:53:22.355528",
     "exception": false,
     "start_time": "2022-05-02T21:53:22.229367",
     "status": "completed"
    },
    "tags": []
   },
   "outputs": [],
   "source": [
    "gaussian = GaussianNB() \n",
    "gaussian.fit(X_train, Y_train)  \n",
    "Y_pred = gaussian.predict(X_test)  \n",
    "acc_gaussian = round(gaussian.score(X_train, Y_train) * 100, 2)"
   ]
  },
  {
   "cell_type": "code",
   "execution_count": 68,
   "id": "4d0813e2",
   "metadata": {
    "execution": {
     "iopub.execute_input": "2022-05-02T21:53:22.579474Z",
     "iopub.status.busy": "2022-05-02T21:53:22.578848Z",
     "iopub.status.idle": "2022-05-02T21:53:22.582923Z",
     "shell.execute_reply": "2022-05-02T21:53:22.582144Z"
    },
    "papermill": {
     "duration": 0.120108,
     "end_time": "2022-05-02T21:53:22.585331",
     "exception": false,
     "start_time": "2022-05-02T21:53:22.465223",
     "status": "completed"
    },
    "tags": []
   },
   "outputs": [],
   "source": [
    "#Perceptron"
   ]
  },
  {
   "cell_type": "code",
   "execution_count": 69,
   "id": "7255741c",
   "metadata": {
    "execution": {
     "iopub.execute_input": "2022-05-02T21:53:22.809046Z",
     "iopub.status.busy": "2022-05-02T21:53:22.808434Z",
     "iopub.status.idle": "2022-05-02T21:53:22.832744Z",
     "shell.execute_reply": "2022-05-02T21:53:22.831274Z"
    },
    "papermill": {
     "duration": 0.142811,
     "end_time": "2022-05-02T21:53:22.837899",
     "exception": false,
     "start_time": "2022-05-02T21:53:22.695088",
     "status": "completed"
    },
    "tags": []
   },
   "outputs": [
    {
     "name": "stderr",
     "output_type": "stream",
     "text": [
      "/opt/conda/lib/python3.7/site-packages/sklearn/linear_model/_stochastic_gradient.py:700: ConvergenceWarning: Maximum number of iteration reached before convergence. Consider increasing max_iter to improve the fit.\n",
      "  ConvergenceWarning,\n"
     ]
    }
   ],
   "source": [
    "perceptron = Perceptron(max_iter=5)\n",
    "perceptron.fit(X_train, Y_train)\n",
    "\n",
    "Y_pred = perceptron.predict(X_test)\n",
    "\n",
    "acc_perceptron = round(perceptron.score(X_train, Y_train) * 100, 2)"
   ]
  },
  {
   "cell_type": "code",
   "execution_count": 70,
   "id": "01ef8bb5",
   "metadata": {
    "execution": {
     "iopub.execute_input": "2022-05-02T21:53:23.123312Z",
     "iopub.status.busy": "2022-05-02T21:53:23.122973Z",
     "iopub.status.idle": "2022-05-02T21:53:23.127052Z",
     "shell.execute_reply": "2022-05-02T21:53:23.126076Z"
    },
    "papermill": {
     "duration": 0.118608,
     "end_time": "2022-05-02T21:53:23.129201",
     "exception": false,
     "start_time": "2022-05-02T21:53:23.010593",
     "status": "completed"
    },
    "tags": []
   },
   "outputs": [],
   "source": [
    "#Linear Support Vector Machine"
   ]
  },
  {
   "cell_type": "code",
   "execution_count": 71,
   "id": "59559ee1",
   "metadata": {
    "execution": {
     "iopub.execute_input": "2022-05-02T21:53:23.361121Z",
     "iopub.status.busy": "2022-05-02T21:53:23.360675Z",
     "iopub.status.idle": "2022-05-02T21:53:23.434770Z",
     "shell.execute_reply": "2022-05-02T21:53:23.433453Z"
    },
    "papermill": {
     "duration": 0.194815,
     "end_time": "2022-05-02T21:53:23.438397",
     "exception": false,
     "start_time": "2022-05-02T21:53:23.243582",
     "status": "completed"
    },
    "tags": []
   },
   "outputs": [
    {
     "name": "stderr",
     "output_type": "stream",
     "text": [
      "/opt/conda/lib/python3.7/site-packages/sklearn/svm/_base.py:1208: ConvergenceWarning: Liblinear failed to converge, increase the number of iterations.\n",
      "  ConvergenceWarning,\n"
     ]
    }
   ],
   "source": [
    "linear_svc = LinearSVC()\n",
    "linear_svc.fit(X_train, Y_train)\n",
    "\n",
    "Y_pred = linear_svc.predict(X_test)\n",
    "\n",
    "acc_linear_svc = round(linear_svc.score(X_train, Y_train) * 100, 2)"
   ]
  },
  {
   "cell_type": "code",
   "execution_count": 72,
   "id": "ce69a483",
   "metadata": {
    "execution": {
     "iopub.execute_input": "2022-05-02T21:53:23.714537Z",
     "iopub.status.busy": "2022-05-02T21:53:23.714216Z",
     "iopub.status.idle": "2022-05-02T21:53:23.718666Z",
     "shell.execute_reply": "2022-05-02T21:53:23.717666Z"
    },
    "papermill": {
     "duration": 0.119147,
     "end_time": "2022-05-02T21:53:23.720868",
     "exception": false,
     "start_time": "2022-05-02T21:53:23.601721",
     "status": "completed"
    },
    "tags": []
   },
   "outputs": [],
   "source": [
    "#Decision Tree"
   ]
  },
  {
   "cell_type": "code",
   "execution_count": 73,
   "id": "9be14474",
   "metadata": {
    "execution": {
     "iopub.execute_input": "2022-05-02T21:53:23.942983Z",
     "iopub.status.busy": "2022-05-02T21:53:23.942405Z",
     "iopub.status.idle": "2022-05-02T21:53:23.956651Z",
     "shell.execute_reply": "2022-05-02T21:53:23.955754Z"
    },
    "papermill": {
     "duration": 0.12889,
     "end_time": "2022-05-02T21:53:23.959208",
     "exception": false,
     "start_time": "2022-05-02T21:53:23.830318",
     "status": "completed"
    },
    "tags": []
   },
   "outputs": [],
   "source": [
    "decision_tree = DecisionTreeClassifier() \n",
    "decision_tree.fit(X_train, Y_train)  \n",
    "Y_pred = decision_tree.predict(X_test)  \n",
    "acc_decision_tree = round(decision_tree.score(X_train, Y_train) * 100, 2)"
   ]
  },
  {
   "cell_type": "code",
   "execution_count": 74,
   "id": "72ebb6a2",
   "metadata": {
    "execution": {
     "iopub.execute_input": "2022-05-02T21:53:24.191323Z",
     "iopub.status.busy": "2022-05-02T21:53:24.190964Z",
     "iopub.status.idle": "2022-05-02T21:53:24.195532Z",
     "shell.execute_reply": "2022-05-02T21:53:24.194571Z"
    },
    "papermill": {
     "duration": 0.122777,
     "end_time": "2022-05-02T21:53:24.198097",
     "exception": false,
     "start_time": "2022-05-02T21:53:24.075320",
     "status": "completed"
    },
    "tags": []
   },
   "outputs": [],
   "source": [
    "#какая самая лучшая модель?"
   ]
  },
  {
   "cell_type": "code",
   "execution_count": 75,
   "id": "9c1208c2",
   "metadata": {
    "execution": {
     "iopub.execute_input": "2022-05-02T21:53:24.421512Z",
     "iopub.status.busy": "2022-05-02T21:53:24.421214Z",
     "iopub.status.idle": "2022-05-02T21:53:24.436807Z",
     "shell.execute_reply": "2022-05-02T21:53:24.435972Z"
    },
    "papermill": {
     "duration": 0.126695,
     "end_time": "2022-05-02T21:53:24.438833",
     "exception": false,
     "start_time": "2022-05-02T21:53:24.312138",
     "status": "completed"
    },
    "tags": []
   },
   "outputs": [
    {
     "data": {
      "text/html": [
       "<div>\n",
       "<style scoped>\n",
       "    .dataframe tbody tr th:only-of-type {\n",
       "        vertical-align: middle;\n",
       "    }\n",
       "\n",
       "    .dataframe tbody tr th {\n",
       "        vertical-align: top;\n",
       "    }\n",
       "\n",
       "    .dataframe thead th {\n",
       "        text-align: right;\n",
       "    }\n",
       "</style>\n",
       "<table border=\"1\" class=\"dataframe\">\n",
       "  <thead>\n",
       "    <tr style=\"text-align: right;\">\n",
       "      <th></th>\n",
       "      <th>Model</th>\n",
       "    </tr>\n",
       "    <tr>\n",
       "      <th>Score</th>\n",
       "      <th></th>\n",
       "    </tr>\n",
       "  </thead>\n",
       "  <tbody>\n",
       "    <tr>\n",
       "      <th>92.48</th>\n",
       "      <td>Random Forest</td>\n",
       "    </tr>\n",
       "    <tr>\n",
       "      <th>92.48</th>\n",
       "      <td>Decision Tree</td>\n",
       "    </tr>\n",
       "    <tr>\n",
       "      <th>84.18</th>\n",
       "      <td>KNN</td>\n",
       "    </tr>\n",
       "    <tr>\n",
       "      <th>82.04</th>\n",
       "      <td>Perceptron</td>\n",
       "    </tr>\n",
       "    <tr>\n",
       "      <th>81.59</th>\n",
       "      <td>Logistic Regression</td>\n",
       "    </tr>\n",
       "    <tr>\n",
       "      <th>81.03</th>\n",
       "      <td>Support Vector Machines</td>\n",
       "    </tr>\n",
       "    <tr>\n",
       "      <th>77.78</th>\n",
       "      <td>Naive Bayes</td>\n",
       "    </tr>\n",
       "    <tr>\n",
       "      <th>72.05</th>\n",
       "      <td>Stochastic Gradient Decent</td>\n",
       "    </tr>\n",
       "  </tbody>\n",
       "</table>\n",
       "</div>"
      ],
      "text/plain": [
       "                            Model\n",
       "Score                            \n",
       "92.48               Random Forest\n",
       "92.48               Decision Tree\n",
       "84.18                         KNN\n",
       "82.04                  Perceptron\n",
       "81.59         Logistic Regression\n",
       "81.03     Support Vector Machines\n",
       "77.78                 Naive Bayes\n",
       "72.05  Stochastic Gradient Decent"
      ]
     },
     "execution_count": 75,
     "metadata": {},
     "output_type": "execute_result"
    }
   ],
   "source": [
    "results = pd.DataFrame({\n",
    "    'Model': ['Support Vector Machines', 'KNN', 'Logistic Regression', \n",
    "              'Random Forest', 'Naive Bayes', 'Perceptron', \n",
    "              'Stochastic Gradient Decent', \n",
    "              'Decision Tree'],\n",
    "    'Score': [acc_linear_svc, acc_knn, acc_log, \n",
    "              acc_random_forest, acc_gaussian, acc_perceptron, \n",
    "              acc_sgd, acc_decision_tree]})\n",
    "result_df = results.sort_values(by='Score', ascending=False)\n",
    "result_df = result_df.set_index('Score')\n",
    "result_df.head(9)"
   ]
  },
  {
   "cell_type": "code",
   "execution_count": 76,
   "id": "2dfe12f1",
   "metadata": {
    "execution": {
     "iopub.execute_input": "2022-05-02T21:53:24.657182Z",
     "iopub.status.busy": "2022-05-02T21:53:24.656882Z",
     "iopub.status.idle": "2022-05-02T21:53:27.022173Z",
     "shell.execute_reply": "2022-05-02T21:53:27.021139Z"
    },
    "papermill": {
     "duration": 2.47643,
     "end_time": "2022-05-02T21:53:27.024695",
     "exception": false,
     "start_time": "2022-05-02T21:53:24.548265",
     "status": "completed"
    },
    "tags": []
   },
   "outputs": [
    {
     "name": "stdout",
     "output_type": "stream",
     "text": [
      "Scores: [0.77777778 0.83146067 0.75280899 0.80898876 0.87640449 0.83146067\n",
      " 0.78651685 0.76404494 0.86516854 0.83146067]\n",
      "Mean: 0.8126092384519351\n",
      "Standard Deviation: 0.039673865787622074\n"
     ]
    }
   ],
   "source": [
    "from sklearn.model_selection import cross_val_score\n",
    "rf = RandomForestClassifier(n_estimators=100)\n",
    "scores = cross_val_score(rf, X_train, Y_train, cv=10, scoring = \"accuracy\")\n",
    "print(\"Scores:\", scores)\n",
    "print(\"Mean:\", scores.mean())\n",
    "print(\"Standard Deviation:\", scores.std())"
   ]
  },
  {
   "cell_type": "code",
   "execution_count": 77,
   "id": "21be9bec",
   "metadata": {
    "execution": {
     "iopub.execute_input": "2022-05-02T21:53:27.248692Z",
     "iopub.status.busy": "2022-05-02T21:53:27.248143Z",
     "iopub.status.idle": "2022-05-02T21:53:27.251485Z",
     "shell.execute_reply": "2022-05-02T21:53:27.250887Z"
    },
    "papermill": {
     "duration": 0.117193,
     "end_time": "2022-05-02T21:53:27.253252",
     "exception": false,
     "start_time": "2022-05-02T21:53:27.136059",
     "status": "completed"
    },
    "tags": []
   },
   "outputs": [],
   "source": [
    "#Наша модель имеет среднюю точнсть 82% при стандартном отклонении 4%"
   ]
  },
  {
   "cell_type": "code",
   "execution_count": 78,
   "id": "5642f83b",
   "metadata": {
    "execution": {
     "iopub.execute_input": "2022-05-02T21:53:27.477641Z",
     "iopub.status.busy": "2022-05-02T21:53:27.477109Z",
     "iopub.status.idle": "2022-05-02T21:53:27.499482Z",
     "shell.execute_reply": "2022-05-02T21:53:27.498890Z"
    },
    "papermill": {
     "duration": 0.135012,
     "end_time": "2022-05-02T21:53:27.501438",
     "exception": false,
     "start_time": "2022-05-02T21:53:27.366426",
     "status": "completed"
    },
    "tags": []
   },
   "outputs": [
    {
     "data": {
      "text/html": [
       "<div>\n",
       "<style scoped>\n",
       "    .dataframe tbody tr th:only-of-type {\n",
       "        vertical-align: middle;\n",
       "    }\n",
       "\n",
       "    .dataframe tbody tr th {\n",
       "        vertical-align: top;\n",
       "    }\n",
       "\n",
       "    .dataframe thead th {\n",
       "        text-align: right;\n",
       "    }\n",
       "</style>\n",
       "<table border=\"1\" class=\"dataframe\">\n",
       "  <thead>\n",
       "    <tr style=\"text-align: right;\">\n",
       "      <th></th>\n",
       "      <th>importance</th>\n",
       "    </tr>\n",
       "    <tr>\n",
       "      <th>feature</th>\n",
       "      <th></th>\n",
       "    </tr>\n",
       "  </thead>\n",
       "  <tbody>\n",
       "    <tr>\n",
       "      <th>Title</th>\n",
       "      <td>0.218</td>\n",
       "    </tr>\n",
       "    <tr>\n",
       "      <th>Sex</th>\n",
       "      <td>0.155</td>\n",
       "    </tr>\n",
       "    <tr>\n",
       "      <th>Age_Class</th>\n",
       "      <td>0.091</td>\n",
       "    </tr>\n",
       "    <tr>\n",
       "      <th>Deck</th>\n",
       "      <td>0.082</td>\n",
       "    </tr>\n",
       "    <tr>\n",
       "      <th>Pclass</th>\n",
       "      <td>0.076</td>\n",
       "    </tr>\n",
       "    <tr>\n",
       "      <th>Fare</th>\n",
       "      <td>0.074</td>\n",
       "    </tr>\n",
       "    <tr>\n",
       "      <th>Age</th>\n",
       "      <td>0.073</td>\n",
       "    </tr>\n",
       "    <tr>\n",
       "      <th>relatives</th>\n",
       "      <td>0.062</td>\n",
       "    </tr>\n",
       "    <tr>\n",
       "      <th>Embarked</th>\n",
       "      <td>0.057</td>\n",
       "    </tr>\n",
       "    <tr>\n",
       "      <th>SibSp</th>\n",
       "      <td>0.040</td>\n",
       "    </tr>\n",
       "    <tr>\n",
       "      <th>Fare_Per_Person</th>\n",
       "      <td>0.039</td>\n",
       "    </tr>\n",
       "    <tr>\n",
       "      <th>Parch</th>\n",
       "      <td>0.022</td>\n",
       "    </tr>\n",
       "    <tr>\n",
       "      <th>not_alone</th>\n",
       "      <td>0.011</td>\n",
       "    </tr>\n",
       "  </tbody>\n",
       "</table>\n",
       "</div>"
      ],
      "text/plain": [
       "                 importance\n",
       "feature                    \n",
       "Title                 0.218\n",
       "Sex                   0.155\n",
       "Age_Class             0.091\n",
       "Deck                  0.082\n",
       "Pclass                0.076\n",
       "Fare                  0.074\n",
       "Age                   0.073\n",
       "relatives             0.062\n",
       "Embarked              0.057\n",
       "SibSp                 0.040\n",
       "Fare_Per_Person       0.039\n",
       "Parch                 0.022\n",
       "not_alone             0.011"
      ]
     },
     "execution_count": 78,
     "metadata": {},
     "output_type": "execute_result"
    }
   ],
   "source": [
    "importances = pd.DataFrame({'feature':X_train.columns,'importance':np.round(random_forest.feature_importances_,3)})\n",
    "importances = importances.sort_values('importance',ascending=False).set_index('feature')\n",
    "importances.head(15)"
   ]
  },
  {
   "cell_type": "code",
   "execution_count": 79,
   "id": "10f2e54c",
   "metadata": {
    "execution": {
     "iopub.execute_input": "2022-05-02T21:53:27.726019Z",
     "iopub.status.busy": "2022-05-02T21:53:27.725681Z",
     "iopub.status.idle": "2022-05-02T21:53:27.975574Z",
     "shell.execute_reply": "2022-05-02T21:53:27.974489Z"
    },
    "papermill": {
     "duration": 0.366651,
     "end_time": "2022-05-02T21:53:27.979144",
     "exception": false,
     "start_time": "2022-05-02T21:53:27.612493",
     "status": "completed"
    },
    "tags": []
   },
   "outputs": [
    {
     "data": {
      "text/plain": [
       "<AxesSubplot:xlabel='feature'>"
      ]
     },
     "execution_count": 79,
     "metadata": {},
     "output_type": "execute_result"
    },
    {
     "data": {
      "image/png": "[encoded data removed]",
      "text/plain": [
       "<Figure size 432x288 with 1 Axes>"
      ]
     },
     "metadata": {
      "needs_background": "light"
     },
     "output_type": "display_data"
    }
   ],
   "source": [
    "importances.plot.bar()"
   ]
  },
  {
   "cell_type": "code",
   "execution_count": 80,
   "id": "a80f9ccc",
   "metadata": {
    "execution": {
     "iopub.execute_input": "2022-05-02T21:53:28.206621Z",
     "iopub.status.busy": "2022-05-02T21:53:28.205575Z",
     "iopub.status.idle": "2022-05-02T21:53:28.214895Z",
     "shell.execute_reply": "2022-05-02T21:53:28.213904Z"
    },
    "papermill": {
     "duration": 0.122397,
     "end_time": "2022-05-02T21:53:28.216957",
     "exception": false,
     "start_time": "2022-05-02T21:53:28.094560",
     "status": "completed"
    },
    "tags": []
   },
   "outputs": [],
   "source": [
    "train_df  = train_df.drop(\"not_alone\", axis=1)\n",
    "test_df  = test_df.drop(\"not_alone\", axis=1)\n",
    "\n",
    "train_df  = train_df.drop(\"Parch\", axis=1)\n",
    "test_df  = test_df.drop(\"Parch\", axis=1)"
   ]
  },
  {
   "cell_type": "code",
   "execution_count": 81,
   "id": "aa5c55f8",
   "metadata": {
    "execution": {
     "iopub.execute_input": "2022-05-02T21:53:28.441112Z",
     "iopub.status.busy": "2022-05-02T21:53:28.440790Z",
     "iopub.status.idle": "2022-05-02T21:53:28.815356Z",
     "shell.execute_reply": "2022-05-02T21:53:28.813483Z"
    },
    "papermill": {
     "duration": 0.488528,
     "end_time": "2022-05-02T21:53:28.817896",
     "exception": false,
     "start_time": "2022-05-02T21:53:28.329368",
     "status": "completed"
    },
    "tags": []
   },
   "outputs": [
    {
     "name": "stdout",
     "output_type": "stream",
     "text": [
      "92.48 %\n"
     ]
    }
   ],
   "source": [
    "# Random Forest\n",
    "\n",
    "random_forest = RandomForestClassifier(n_estimators=100, oob_score = True)\n",
    "random_forest.fit(X_train, Y_train)\n",
    "Y_prediction = random_forest.predict(X_test)\n",
    "\n",
    "random_forest.score(X_train, Y_train)\n",
    "\n",
    "acc_random_forest = round(random_forest.score(X_train, Y_train) * 100, 2)\n",
    "print(round(acc_random_forest,2,), \"%\")"
   ]
  },
  {
   "cell_type": "code",
   "execution_count": null,
   "id": "9b7adfc9",
   "metadata": {
    "papermill": {
     "duration": 0.111833,
     "end_time": "2022-05-02T21:53:29.043676",
     "exception": false,
     "start_time": "2022-05-02T21:53:28.931843",
     "status": "completed"
    },
    "tags": []
   },
   "outputs": [],
   "source": []
  },
  {
   "cell_type": "code",
   "execution_count": 82,
   "id": "c45b65f9",
   "metadata": {
    "execution": {
     "iopub.execute_input": "2022-05-02T21:53:29.274646Z",
     "iopub.status.busy": "2022-05-02T21:53:29.274125Z",
     "iopub.status.idle": "2022-05-02T21:53:30.152566Z",
     "shell.execute_reply": "2022-05-02T21:53:30.151479Z"
    },
    "papermill": {
     "duration": 0.999636,
     "end_time": "2022-05-02T21:53:30.155379",
     "exception": false,
     "start_time": "2022-05-02T21:53:29.155743",
     "status": "completed"
    },
    "tags": []
   },
   "outputs": [
    {
     "data": {
      "text/plain": [
       "array([[473,  76],\n",
       "       [ 98, 244]])"
      ]
     },
     "execution_count": 82,
     "metadata": {},
     "output_type": "execute_result"
    }
   ],
   "source": [
    "from sklearn.model_selection import cross_val_predict\n",
    "from sklearn.metrics import confusion_matrix\n",
    "predictions = cross_val_predict(random_forest, X_train, Y_train, cv=3)\n",
    "confusion_matrix(Y_train, predictions)"
   ]
  },
  {
   "cell_type": "code",
   "execution_count": 83,
   "id": "9bcbfcd8",
   "metadata": {
    "execution": {
     "iopub.execute_input": "2022-05-02T21:53:30.384867Z",
     "iopub.status.busy": "2022-05-02T21:53:30.384226Z",
     "iopub.status.idle": "2022-05-02T21:53:30.395892Z",
     "shell.execute_reply": "2022-05-02T21:53:30.394908Z"
    },
    "papermill": {
     "duration": 0.13297,
     "end_time": "2022-05-02T21:53:30.399018",
     "exception": false,
     "start_time": "2022-05-02T21:53:30.266048",
     "status": "completed"
    },
    "tags": []
   },
   "outputs": [
    {
     "name": "stdout",
     "output_type": "stream",
     "text": [
      "Precision: 0.7625\n",
      "Recall: 0.7134502923976608\n"
     ]
    }
   ],
   "source": [
    "from sklearn.metrics import precision_score, recall_score\n",
    "\n",
    "print(\"Precision:\", precision_score(Y_train, predictions))\n",
    "print(\"Recall:\",recall_score(Y_train, predictions))"
   ]
  },
  {
   "cell_type": "code",
   "execution_count": 84,
   "id": "08b3f416",
   "metadata": {
    "execution": {
     "iopub.execute_input": "2022-05-02T21:53:30.641837Z",
     "iopub.status.busy": "2022-05-02T21:53:30.641527Z",
     "iopub.status.idle": "2022-05-02T21:53:30.650776Z",
     "shell.execute_reply": "2022-05-02T21:53:30.649854Z"
    },
    "papermill": {
     "duration": 0.130043,
     "end_time": "2022-05-02T21:53:30.653153",
     "exception": false,
     "start_time": "2022-05-02T21:53:30.523110",
     "status": "completed"
    },
    "tags": []
   },
   "outputs": [
    {
     "data": {
      "text/plain": [
       "0.7371601208459213"
      ]
     },
     "execution_count": 84,
     "metadata": {},
     "output_type": "execute_result"
    }
   ],
   "source": [
    "from sklearn.metrics import f1_score\n",
    "f1_score(Y_train, predictions)"
   ]
  },
  {
   "cell_type": "code",
   "execution_count": 85,
   "id": "ea43c1cc",
   "metadata": {
    "execution": {
     "iopub.execute_input": "2022-05-02T21:53:30.884109Z",
     "iopub.status.busy": "2022-05-02T21:53:30.883762Z",
     "iopub.status.idle": "2022-05-02T21:53:31.138852Z",
     "shell.execute_reply": "2022-05-02T21:53:31.137671Z"
    },
    "papermill": {
     "duration": 0.371697,
     "end_time": "2022-05-02T21:53:31.141229",
     "exception": false,
     "start_time": "2022-05-02T21:53:30.769532",
     "status": "completed"
    },
    "tags": []
   },
   "outputs": [
    {
     "data": {
      "image/png": "[encoded data removed]",
      "text/plain": [
       "<Figure size 1008x504 with 1 Axes>"
      ]
     },
     "metadata": {
      "needs_background": "light"
     },
     "output_type": "display_data"
    }
   ],
   "source": [
    "from sklearn.metrics import precision_recall_curve\n",
    "\n",
    "# getting the probabilities of our predictions\n",
    "y_scores = random_forest.predict_proba(X_train)\n",
    "y_scores = y_scores[:,1]\n",
    "\n",
    "precision, recall, threshold = precision_recall_curve(Y_train, y_scores)\n",
    "def plot_precision_and_recall(precision, recall, threshold):\n",
    "    plt.plot(threshold, precision[:-1], \"r-\", label=\"precision\", linewidth=5)\n",
    "    plt.plot(threshold, recall[:-1], \"b\", label=\"recall\", linewidth=5)\n",
    "    plt.xlabel(\"threshold\", fontsize=19)\n",
    "    plt.legend(loc=\"upper right\", fontsize=19)\n",
    "    plt.ylim([0, 1])\n",
    "\n",
    "plt.figure(figsize=(14, 7))\n",
    "plot_precision_and_recall(precision, recall, threshold)\n",
    "plt.show()"
   ]
  },
  {
   "cell_type": "code",
   "execution_count": 86,
   "id": "c38f97bd",
   "metadata": {
    "execution": {
     "iopub.execute_input": "2022-05-02T21:53:31.381747Z",
     "iopub.status.busy": "2022-05-02T21:53:31.381452Z",
     "iopub.status.idle": "2022-05-02T21:53:31.610739Z",
     "shell.execute_reply": "2022-05-02T21:53:31.609892Z"
    },
    "papermill": {
     "duration": 0.351996,
     "end_time": "2022-05-02T21:53:31.613300",
     "exception": false,
     "start_time": "2022-05-02T21:53:31.261304",
     "status": "completed"
    },
    "tags": []
   },
   "outputs": [
    {
     "data": {
      "image/png": "[encoded data removed]",
      "text/plain": [
       "<Figure size 1008x504 with 1 Axes>"
      ]
     },
     "metadata": {
      "needs_background": "light"
     },
     "output_type": "display_data"
    }
   ],
   "source": [
    "def plot_precision_vs_recall(precision, recall):\n",
    "    plt.plot(recall, precision, \"g--\", linewidth=2.5)\n",
    "    plt.ylabel(\"recall\", fontsize=19)\n",
    "    plt.xlabel(\"precision\", fontsize=19)\n",
    "    plt.axis([0, 1.5, 0, 1.5])\n",
    "\n",
    "plt.figure(figsize=(14, 7))\n",
    "plot_precision_vs_recall(precision, recall)\n",
    "plt.show()"
   ]
  },
  {
   "cell_type": "code",
   "execution_count": 87,
   "id": "c286b2d4",
   "metadata": {
    "execution": {
     "iopub.execute_input": "2022-05-02T21:53:31.856746Z",
     "iopub.status.busy": "2022-05-02T21:53:31.856284Z",
     "iopub.status.idle": "2022-05-02T21:53:32.065641Z",
     "shell.execute_reply": "2022-05-02T21:53:32.064485Z"
    },
    "papermill": {
     "duration": 0.333306,
     "end_time": "2022-05-02T21:53:32.067996",
     "exception": false,
     "start_time": "2022-05-02T21:53:31.734690",
     "status": "completed"
    },
    "tags": []
   },
   "outputs": [
    {
     "data": {
      "image/png": "[encoded data removed]",
      "text/plain": [
       "<Figure size 1008x504 with 1 Axes>"
      ]
     },
     "metadata": {
      "needs_background": "light"
     },
     "output_type": "display_data"
    }
   ],
   "source": [
    "from sklearn.metrics import roc_curve\n",
    "# compute true positive rate and false positive rate\n",
    "false_positive_rate, true_positive_rate, thresholds = roc_curve(Y_train, y_scores)\n",
    "# plotting them against each other\n",
    "def plot_roc_curve(false_positive_rate, true_positive_rate, label=None):\n",
    "    plt.plot(false_positive_rate, true_positive_rate, linewidth=2, label=label)\n",
    "    plt.plot([0, 1], [0, 1], 'r', linewidth=4)\n",
    "    plt.axis([0, 1, 0, 1])\n",
    "    plt.xlabel('False Positive Rate (FPR)', fontsize=16)\n",
    "    plt.ylabel('True Positive Rate (TPR)', fontsize=16)\n",
    "\n",
    "plt.figure(figsize=(14, 7))\n",
    "plot_roc_curve(false_positive_rate, true_positive_rate)\n",
    "plt.show()"
   ]
  },
  {
   "cell_type": "code",
   "execution_count": 88,
   "id": "768f051c",
   "metadata": {
    "execution": {
     "iopub.execute_input": "2022-05-02T21:53:32.303838Z",
     "iopub.status.busy": "2022-05-02T21:53:32.303505Z",
     "iopub.status.idle": "2022-05-02T21:53:32.312036Z",
     "shell.execute_reply": "2022-05-02T21:53:32.311104Z"
    },
    "papermill": {
     "duration": 0.129664,
     "end_time": "2022-05-02T21:53:32.314075",
     "exception": false,
     "start_time": "2022-05-02T21:53:32.184411",
     "status": "completed"
    },
    "tags": []
   },
   "outputs": [
    {
     "name": "stdout",
     "output_type": "stream",
     "text": [
      "ROC-AUC-Score: 0.9689547183076088\n"
     ]
    }
   ],
   "source": [
    "from sklearn.metrics import roc_auc_score\n",
    "r_a_score = roc_auc_score(Y_train, y_scores)\n",
    "print(\"ROC-AUC-Score:\", r_a_score)"
   ]
  },
  {
   "cell_type": "code",
   "execution_count": 89,
   "id": "9b7c1ba5",
   "metadata": {
    "execution": {
     "iopub.execute_input": "2022-05-02T21:53:32.545704Z",
     "iopub.status.busy": "2022-05-02T21:53:32.544875Z",
     "iopub.status.idle": "2022-05-02T21:53:32.556391Z",
     "shell.execute_reply": "2022-05-02T21:53:32.554903Z"
    },
    "papermill": {
     "duration": 0.131031,
     "end_time": "2022-05-02T21:53:32.560076",
     "exception": false,
     "start_time": "2022-05-02T21:53:32.429045",
     "status": "completed"
    },
    "tags": []
   },
   "outputs": [
    {
     "name": "stdout",
     "output_type": "stream",
     "text": [
      "Your submission was successfully saved!\n"
     ]
    }
   ],
   "source": [
    "my_submission = pd.DataFrame({'PassengerId': test_df.PassengerId,'Survived': Y_prediction})\n",
    "# you could use any filename. We choose submission here\n",
    "my_submission.to_csv('submission_v2.csv', index=False)\n",
    "print(\"Your submission was successfully saved!\")"
   ]
  },
  {
   "cell_type": "code",
   "execution_count": null,
   "id": "800384ed",
   "metadata": {
    "papermill": {
     "duration": 0.115263,
     "end_time": "2022-05-02T21:53:32.792478",
     "exception": false,
     "start_time": "2022-05-02T21:53:32.677215",
     "status": "completed"
    },
    "tags": []
   },
   "outputs": [],
   "source": []
  }
 ],
 "metadata": {
  "kernelspec": {
   "display_name": "Python 3",
   "language": "python",
   "name": "python3"
  },
  "language_info": {
   "codemirror_mode": {
    "name": "ipython",
    "version": 3
   },
   "file_extension": ".py",
   "mimetype": "text/x-python",
   "name": "python",
   "nbconvert_exporter": "python",
   "pygments_lexer": "ipython3",
   "version": "3.7.12"
  },
  "papermill": {
   "default_parameters": {},
   "duration": 44.6642,
   "end_time": "2022-05-02T21:53:33.932137",
   "environment_variables": {},
   "exception": null,
   "input_path": "__notebook__.ipynb",
   "output_path": "__notebook__.ipynb",
   "parameters": {},
   "start_time": "2022-05-02T21:52:49.267937",
   "version": "2.3.4"
  }
 },
 "nbformat": 4,
 "nbformat_minor": 5
}
